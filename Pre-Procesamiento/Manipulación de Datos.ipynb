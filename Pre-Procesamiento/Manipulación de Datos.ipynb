{
 "cells": [
  {
   "cell_type": "markdown",
   "metadata": {},
   "source": [
    "### Manipulaciones Basicas con dplyr"
   ]
  },
  {
   "cell_type": "code",
   "execution_count": null,
   "metadata": {
    "collapsed": true
   },
   "outputs": [],
   "source": []
  },
  {
   "cell_type": "markdown",
   "metadata": {},
   "source": [
    "The package dplyr offers functions for:\n",
    "• Filtering of observations\n",
    "• Variable selection\n",
    "• Recoding\n",
    "• Grouping\n",
    "• Aggregation (in groups)"
   ]
  },
  {
   "cell_type": "code",
   "execution_count": 1,
   "metadata": {
    "collapsed": true
   },
   "outputs": [],
   "source": [
    "data(Cars93, package = \"MASS\")"
   ]
  },
  {
   "cell_type": "code",
   "execution_count": 2,
   "metadata": {
    "collapsed": false
   },
   "outputs": [
    {
     "name": "stderr",
     "output_type": "stream",
     "text": [
      "\n",
      "Attaching package: 'dplyr'\n",
      "\n",
      "The following objects are masked from 'package:stats':\n",
      "\n",
      "    filter, lag\n",
      "\n",
      "The following objects are masked from 'package:base':\n",
      "\n",
      "    intersect, setdiff, setequal, union\n",
      "\n"
     ]
    }
   ],
   "source": [
    "library(\"dplyr\")"
   ]
  },
  {
   "cell_type": "code",
   "execution_count": 3,
   "metadata": {
    "collapsed": false
   },
   "outputs": [
    {
     "data": {
      "text/html": [
       "'data.frame'"
      ],
      "text/latex": [
       "'data.frame'"
      ],
      "text/markdown": [
       "'data.frame'"
      ],
      "text/plain": [
       "[1] \"data.frame\""
      ]
     },
     "metadata": {},
     "output_type": "display_data"
    },
    {
     "data": {
      "text/html": [
       "<ol class=list-inline>\n",
       "\t<li>'tbl_df'</li>\n",
       "\t<li>'tbl'</li>\n",
       "\t<li>'data.frame'</li>\n",
       "</ol>\n"
      ],
      "text/latex": [
       "\\begin{enumerate*}\n",
       "\\item 'tbl\\_df'\n",
       "\\item 'tbl'\n",
       "\\item 'data.frame'\n",
       "\\end{enumerate*}\n"
      ],
      "text/markdown": [
       "1. 'tbl_df'\n",
       "2. 'tbl'\n",
       "3. 'data.frame'\n",
       "\n",
       "\n"
      ],
      "text/plain": [
       "[1] \"tbl_df\"     \"tbl\"        \"data.frame\""
      ]
     },
     "metadata": {},
     "output_type": "display_data"
    }
   ],
   "source": [
    "## ---- eval = TRUE, echo = TRUE-------------------------------------------\n",
    "class (Cars93)\n",
    "\n",
    "## ---- eval = TRUE, echo = TRUE-------------------------------------------\n",
    "Cars93 <- tbl_df(Cars93)\n",
    "class(Cars93) \n"
   ]
  },
  {
   "cell_type": "code",
   "execution_count": 4,
   "metadata": {
    "collapsed": false
   },
   "outputs": [
    {
     "data": {
      "text/html": [
       "<table>\n",
       "<thead><tr><th scope=col>Manufacturer</th><th scope=col>Model</th><th scope=col>Type</th><th scope=col>Min.Price</th><th scope=col>Price</th><th scope=col>Max.Price</th><th scope=col>MPG.city</th><th scope=col>MPG.highway</th><th scope=col>AirBags</th><th scope=col>DriveTrain</th><th scope=col>...</th><th scope=col>Passengers</th><th scope=col>Length</th><th scope=col>Wheelbase</th><th scope=col>Width</th><th scope=col>Turn.circle</th><th scope=col>Rear.seat.room</th><th scope=col>Luggage.room</th><th scope=col>Weight</th><th scope=col>Origin</th><th scope=col>Make</th></tr></thead>\n",
       "<tbody>\n",
       "\t<tr><td>Acura        </td><td>Integra      </td><td>Small        </td><td>12.9         </td><td>15.9         </td><td>18.8         </td><td>25           </td><td>31           </td><td>None         </td><td>Front        </td><td>...          </td><td>5            </td><td>177          </td><td>102          </td><td>68           </td><td>37           </td><td>26.5         </td><td>11           </td><td>2705         </td><td>non-USA      </td><td>Acura Integra</td></tr>\n",
       "</tbody>\n",
       "</table>\n"
      ],
      "text/latex": [
       "\\begin{tabular}{r|lllllllllllllllllllllllllll}\n",
       " Manufacturer & Model & Type & Min.Price & Price & Max.Price & MPG.city & MPG.highway & AirBags & DriveTrain & ... & Passengers & Length & Wheelbase & Width & Turn.circle & Rear.seat.room & Luggage.room & Weight & Origin & Make\\\\\n",
       "\\hline\n",
       "\t Acura         & Integra       & Small         & 12.9          & 15.9          & 18.8          & 25            & 31            & None          & Front         & ...           & 5             & 177           & 102           & 68            & 37            & 26.5          & 11            & 2705          & non-USA       & Acura Integra\\\\\n",
       "\\end{tabular}\n"
      ],
      "text/plain": [
       "  Manufacturer Model   Type  Min.Price Price Max.Price MPG.city MPG.highway\n",
       "1 Acura        Integra Small 12.9      15.9  18.8      25       31         \n",
       "  AirBags DriveTrain ... Passengers Length Wheelbase Width Turn.circle\n",
       "1 None    Front      ... 5          177    102       68    37         \n",
       "  Rear.seat.room Luggage.room Weight Origin  Make         \n",
       "1 26.5           11           2705   non-USA Acura Integra"
      ]
     },
     "metadata": {},
     "output_type": "display_data"
    }
   ],
   "source": [
    "slice(Cars93, 1)"
   ]
  },
  {
   "cell_type": "code",
   "execution_count": 5,
   "metadata": {
    "collapsed": false
   },
   "outputs": [
    {
     "data": {
      "text/html": [
       "<table>\n",
       "<thead><tr><th scope=col>Manufacturer</th><th scope=col>Model</th><th scope=col>Type</th><th scope=col>Min.Price</th><th scope=col>Price</th><th scope=col>Max.Price</th><th scope=col>MPG.city</th><th scope=col>MPG.highway</th><th scope=col>AirBags</th><th scope=col>DriveTrain</th><th scope=col>...</th><th scope=col>Passengers</th><th scope=col>Length</th><th scope=col>Wheelbase</th><th scope=col>Width</th><th scope=col>Turn.circle</th><th scope=col>Rear.seat.room</th><th scope=col>Luggage.room</th><th scope=col>Weight</th><th scope=col>Origin</th><th scope=col>Make</th></tr></thead>\n",
       "<tbody>\n",
       "\t<tr><td>Acura             </td><td>Integra           </td><td>Small             </td><td>12.9              </td><td>15.9              </td><td>18.8              </td><td>25                </td><td>31                </td><td>None              </td><td>Front             </td><td>...               </td><td>5                 </td><td>177               </td><td>102               </td><td>68                </td><td>37                </td><td>26.5              </td><td>11                </td><td>2705              </td><td>non-USA           </td><td>Acura Integra     </td></tr>\n",
       "\t<tr><td><span style=white-space:pre-wrap>Audi     </span>       </td><td><span style=white-space:pre-wrap>100    </span>         </td><td>Midsize                                                 </td><td>30.8                                                    </td><td>37.7                                                    </td><td>44.6                                                    </td><td>19                                                      </td><td>26                                                      </td><td>Driver &amp; Passenger                                  </td><td>Front                                                   </td><td>...                                                     </td><td>6                                                       </td><td>193                                                     </td><td>106                                                     </td><td>70                                                      </td><td>37                                                      </td><td>31.0                                                    </td><td>17                                                      </td><td>3405                                                    </td><td>non-USA                                                 </td><td><span style=white-space:pre-wrap>Audi 100        </span></td></tr>\n",
       "\t<tr><td>Cadillac          </td><td>DeVille           </td><td>Large             </td><td>33.0              </td><td>34.7              </td><td>36.3              </td><td>16                </td><td>25                </td><td>Driver only       </td><td>Front             </td><td>...               </td><td>6                 </td><td>206               </td><td>114               </td><td>73                </td><td>43                </td><td>35.0              </td><td>18                </td><td>3620              </td><td>USA               </td><td>Cadillac DeVille  </td></tr>\n",
       "\t<tr><td>Chevrolet         </td><td>Lumina            </td><td>Midsize           </td><td>13.4              </td><td>15.9              </td><td>18.4              </td><td>21                </td><td>29                </td><td>None              </td><td>Front             </td><td>...               </td><td>6                 </td><td>198               </td><td>108               </td><td>71                </td><td>40                </td><td>28.5              </td><td>16                </td><td>3195              </td><td>USA               </td><td>Chevrolet Lumina  </td></tr>\n",
       "\t<tr><td><span style=white-space:pre-wrap>Volvo    </span>       </td><td><span style=white-space:pre-wrap>850    </span>         </td><td>Midsize                                                 </td><td>24.8                                                    </td><td>26.7                                                    </td><td>28.5                                                    </td><td>20                                                      </td><td>28                                                      </td><td>Driver &amp; Passenger                                  </td><td>Front                                                   </td><td>...                                                     </td><td>5                                                       </td><td>184                                                     </td><td>105                                                     </td><td>69                                                      </td><td>38                                                      </td><td>30.0                                                    </td><td>15                                                      </td><td>3245                                                    </td><td>non-USA                                                 </td><td><span style=white-space:pre-wrap>Volvo 850       </span></td></tr>\n",
       "</tbody>\n",
       "</table>\n"
      ],
      "text/latex": [
       "\\begin{tabular}{r|lllllllllllllllllllllllllll}\n",
       " Manufacturer & Model & Type & Min.Price & Price & Max.Price & MPG.city & MPG.highway & AirBags & DriveTrain & ... & Passengers & Length & Wheelbase & Width & Turn.circle & Rear.seat.room & Luggage.room & Weight & Origin & Make\\\\\n",
       "\\hline\n",
       "\t Acura              & Integra            & Small              & 12.9               & 15.9               & 18.8               & 25                 & 31                 & None               & Front              & ...                & 5                  & 177                & 102                & 68                 & 37                 & 26.5               & 11                 & 2705               & non-USA            & Acura Integra     \\\\\n",
       "\t Audi                 & 100                  & Midsize              & 30.8                 & 37.7                 & 44.6                 & 19                   & 26                   & Driver \\& Passenger & Front                & ...                  & 6                    & 193                  & 106                  & 70                   & 37                   & 31.0                 & 17                   & 3405                 & non-USA              & Audi 100            \\\\\n",
       "\t Cadillac           & DeVille            & Large              & 33.0               & 34.7               & 36.3               & 16                 & 25                 & Driver only        & Front              & ...                & 6                  & 206                & 114                & 73                 & 43                 & 35.0               & 18                 & 3620               & USA                & Cadillac DeVille  \\\\\n",
       "\t Chevrolet          & Lumina             & Midsize            & 13.4               & 15.9               & 18.4               & 21                 & 29                 & None               & Front              & ...                & 6                  & 198                & 108                & 71                 & 40                 & 28.5               & 16                 & 3195               & USA                & Chevrolet Lumina  \\\\\n",
       "\t Volvo                & 850                  & Midsize              & 24.8                 & 26.7                 & 28.5                 & 20                   & 28                   & Driver \\& Passenger & Front                & ...                  & 5                    & 184                  & 105                  & 69                   & 38                   & 30.0                 & 15                   & 3245                 & non-USA              & Volvo 850           \\\\\n",
       "\\end{tabular}\n"
      ],
      "text/plain": [
       "  Manufacturer Model   Type    Min.Price Price Max.Price MPG.city MPG.highway\n",
       "1 Acura        Integra Small   12.9      15.9  18.8      25       31         \n",
       "2 Audi         100     Midsize 30.8      37.7  44.6      19       26         \n",
       "3 Cadillac     DeVille Large   33.0      34.7  36.3      16       25         \n",
       "4 Chevrolet    Lumina  Midsize 13.4      15.9  18.4      21       29         \n",
       "5 Volvo        850     Midsize 24.8      26.7  28.5      20       28         \n",
       "  AirBags            DriveTrain ... Passengers Length Wheelbase Width\n",
       "1 None               Front      ... 5          177    102       68   \n",
       "2 Driver & Passenger Front      ... 6          193    106       70   \n",
       "3 Driver only        Front      ... 6          206    114       73   \n",
       "4 None               Front      ... 6          198    108       71   \n",
       "5 Driver & Passenger Front      ... 5          184    105       69   \n",
       "  Turn.circle Rear.seat.room Luggage.room Weight Origin  Make            \n",
       "1 37          26.5           11           2705   non-USA Acura Integra   \n",
       "2 37          31.0           17           3405   non-USA Audi 100        \n",
       "3 43          35.0           18           3620   USA     Cadillac DeVille\n",
       "4 40          28.5           16           3195   USA     Chevrolet Lumina\n",
       "5 38          30.0           15           3245   non-USA Volvo 850       "
      ]
     },
     "metadata": {},
     "output_type": "display_data"
    }
   ],
   "source": [
    "slice (Cars93, c(1,4,10,15, n ()))"
   ]
  },
  {
   "cell_type": "code",
   "execution_count": 6,
   "metadata": {
    "collapsed": false
   },
   "outputs": [
    {
     "data": {
      "text/html": [
       "<table>\n",
       "<thead><tr><th scope=col>Manufacturer</th><th scope=col>Model</th><th scope=col>Type</th><th scope=col>Min.Price</th><th scope=col>Price</th><th scope=col>Max.Price</th><th scope=col>MPG.city</th><th scope=col>MPG.highway</th><th scope=col>AirBags</th><th scope=col>DriveTrain</th><th scope=col>...</th><th scope=col>Passengers</th><th scope=col>Length</th><th scope=col>Wheelbase</th><th scope=col>Width</th><th scope=col>Turn.circle</th><th scope=col>Rear.seat.room</th><th scope=col>Luggage.room</th><th scope=col>Weight</th><th scope=col>Origin</th><th scope=col>Make</th></tr></thead>\n",
       "<tbody>\n",
       "\t<tr><td>Audi              </td><td>90                </td><td>Compact           </td><td>25.9              </td><td>29.1              </td><td>32.3              </td><td>20                </td><td>26                </td><td>Driver only       </td><td>Front             </td><td>...               </td><td>5                 </td><td>180               </td><td>102               </td><td>67                </td><td>37                </td><td>28                </td><td>14                </td><td>3375              </td><td>non-USA           </td><td>Audi 90           </td></tr>\n",
       "\t<tr><td>Audi                  </td><td>100                   </td><td>Midsize               </td><td>30.8                  </td><td>37.7                  </td><td>44.6                  </td><td>19                    </td><td>26                    </td><td>Driver &amp; Passenger</td><td>Front                 </td><td>...                   </td><td>6                     </td><td>193                   </td><td>106                   </td><td>70                    </td><td>37                    </td><td>31                    </td><td>17                    </td><td>3405                  </td><td>non-USA               </td><td>Audi 100              </td></tr>\n",
       "</tbody>\n",
       "</table>\n"
      ],
      "text/latex": [
       "\\begin{tabular}{r|lllllllllllllllllllllllllll}\n",
       " Manufacturer & Model & Type & Min.Price & Price & Max.Price & MPG.city & MPG.highway & AirBags & DriveTrain & ... & Passengers & Length & Wheelbase & Width & Turn.circle & Rear.seat.room & Luggage.room & Weight & Origin & Make\\\\\n",
       "\\hline\n",
       "\t Audi               & 90                 & Compact            & 25.9               & 29.1               & 32.3               & 20                 & 26                 & Driver only        & Front              & ...                & 5                  & 180                & 102                & 67                 & 37                 & 28                 & 14                 & 3375               & non-USA            & Audi 90           \\\\\n",
       "\t Audi                 & 100                  & Midsize              & 30.8                 & 37.7                 & 44.6                 & 19                   & 26                   & Driver \\& Passenger & Front                & ...                  & 6                    & 193                  & 106                  & 70                   & 37                   & 31                   & 17                   & 3405                 & non-USA              & Audi 100            \\\\\n",
       "\\end{tabular}\n"
      ],
      "text/plain": [
       "  Manufacturer Model Type    Min.Price Price Max.Price MPG.city MPG.highway\n",
       "1 Audi         90    Compact 25.9      29.1  32.3      20       26         \n",
       "2 Audi         100   Midsize 30.8      37.7  44.6      19       26         \n",
       "  AirBags            DriveTrain ... Passengers Length Wheelbase Width\n",
       "1 Driver only        Front      ... 5          180    102       67   \n",
       "2 Driver & Passenger Front      ... 6          193    106       70   \n",
       "  Turn.circle Rear.seat.room Luggage.room Weight Origin  Make    \n",
       "1 37          28             14           3375   non-USA Audi 90 \n",
       "2 37          31             17           3405   non-USA Audi 100"
      ]
     },
     "metadata": {},
     "output_type": "display_data"
    }
   ],
   "source": [
    "filter(Cars93, Manufacturer == \"Audi\" & Min.Price > 25)"
   ]
  },
  {
   "cell_type": "code",
   "execution_count": 7,
   "metadata": {
    "collapsed": false
   },
   "outputs": [
    {
     "data": {
      "text/html": [
       "<table>\n",
       "<thead><tr><th scope=col>Manufacturer</th><th scope=col>Model</th><th scope=col>Type</th><th scope=col>Min.Price</th><th scope=col>Price</th><th scope=col>Max.Price</th><th scope=col>MPG.city</th><th scope=col>MPG.highway</th><th scope=col>AirBags</th><th scope=col>DriveTrain</th><th scope=col>...</th><th scope=col>Passengers</th><th scope=col>Length</th><th scope=col>Wheelbase</th><th scope=col>Width</th><th scope=col>Turn.circle</th><th scope=col>Rear.seat.room</th><th scope=col>Luggage.room</th><th scope=col>Weight</th><th scope=col>Origin</th><th scope=col>Make</th></tr></thead>\n",
       "<tbody>\n",
       "\t<tr><td>Audi              </td><td>90                </td><td>Compact           </td><td>25.9              </td><td>29.1              </td><td>32.3              </td><td>20                </td><td>26                </td><td>Driver only       </td><td>Front             </td><td>...               </td><td>5                 </td><td>180               </td><td>102               </td><td>67                </td><td>37                </td><td>28                </td><td>14                </td><td>3375              </td><td>non-USA           </td><td>Audi 90           </td></tr>\n",
       "\t<tr><td>Audi                  </td><td>100                   </td><td>Midsize               </td><td>30.8                  </td><td>37.7                  </td><td>44.6                  </td><td>19                    </td><td>26                    </td><td>Driver &amp; Passenger</td><td>Front                 </td><td>...                   </td><td>6                     </td><td>193                   </td><td>106                   </td><td>70                    </td><td>37                    </td><td>31                    </td><td>17                    </td><td>3405                  </td><td>non-USA               </td><td>Audi 100              </td></tr>\n",
       "</tbody>\n",
       "</table>\n"
      ],
      "text/latex": [
       "\\begin{tabular}{r|lllllllllllllllllllllllllll}\n",
       " Manufacturer & Model & Type & Min.Price & Price & Max.Price & MPG.city & MPG.highway & AirBags & DriveTrain & ... & Passengers & Length & Wheelbase & Width & Turn.circle & Rear.seat.room & Luggage.room & Weight & Origin & Make\\\\\n",
       "\\hline\n",
       "\t Audi               & 90                 & Compact            & 25.9               & 29.1               & 32.3               & 20                 & 26                 & Driver only        & Front              & ...                & 5                  & 180                & 102                & 67                 & 37                 & 28                 & 14                 & 3375               & non-USA            & Audi 90           \\\\\n",
       "\t Audi                 & 100                  & Midsize              & 30.8                 & 37.7                 & 44.6                 & 19                   & 26                   & Driver \\& Passenger & Front                & ...                  & 6                    & 193                  & 106                  & 70                   & 37                   & 31                   & 17                   & 3405                 & non-USA              & Audi 100            \\\\\n",
       "\\end{tabular}\n"
      ],
      "text/plain": [
       "  Manufacturer Model Type    Min.Price Price Max.Price MPG.city MPG.highway\n",
       "1 Audi         90    Compact 25.9      29.1  32.3      20       26         \n",
       "2 Audi         100   Midsize 30.8      37.7  44.6      19       26         \n",
       "  AirBags            DriveTrain ... Passengers Length Wheelbase Width\n",
       "1 Driver only        Front      ... 5          180    102       67   \n",
       "2 Driver & Passenger Front      ... 6          193    106       70   \n",
       "  Turn.circle Rear.seat.room Luggage.room Weight Origin  Make    \n",
       "1 37          28             14           3375   non-USA Audi 90 \n",
       "2 37          31             17           3405   non-USA Audi 100"
      ]
     },
     "metadata": {},
     "output_type": "display_data"
    }
   ],
   "source": [
    "subset(Cars93, Manufacturer == \"Audi\" & Min.Price > 25)"
   ]
  },
  {
   "cell_type": "code",
   "execution_count": 8,
   "metadata": {
    "collapsed": false
   },
   "outputs": [
    {
     "data": {
      "text/html": [
       "<table>\n",
       "<thead><tr><th scope=col>Manufacturer</th><th scope=col>Model</th><th scope=col>Type</th><th scope=col>Min.Price</th><th scope=col>Price</th><th scope=col>Max.Price</th><th scope=col>MPG.city</th><th scope=col>MPG.highway</th><th scope=col>AirBags</th><th scope=col>DriveTrain</th><th scope=col>...</th><th scope=col>Passengers</th><th scope=col>Length</th><th scope=col>Wheelbase</th><th scope=col>Width</th><th scope=col>Turn.circle</th><th scope=col>Rear.seat.room</th><th scope=col>Luggage.room</th><th scope=col>Weight</th><th scope=col>Origin</th><th scope=col>Make</th></tr></thead>\n",
       "<tbody>\n",
       "\t<tr><td>Geo           </td><td>Metro         </td><td>Small         </td><td>6.7           </td><td> 8.4          </td><td>10.0          </td><td>46            </td><td>50            </td><td>None          </td><td>Front         </td><td>...           </td><td>4             </td><td>151           </td><td> 93           </td><td>63            </td><td>34            </td><td>27.5          </td><td>10            </td><td>1695          </td><td>non-USA       </td><td>Geo Metro     </td></tr>\n",
       "\t<tr><td>Honda         </td><td>Civic         </td><td>Small         </td><td>8.4           </td><td>12.1          </td><td>15.8          </td><td>42            </td><td>46            </td><td>Driver only   </td><td>Front         </td><td>...           </td><td>4             </td><td>173           </td><td>103           </td><td>67            </td><td>36            </td><td>28.0          </td><td>12            </td><td>2350          </td><td>non-USA       </td><td>Honda Civic   </td></tr>\n",
       "\t<tr><td>Suzuki        </td><td>Swift         </td><td>Small         </td><td>7.3           </td><td> 8.6          </td><td>10.0          </td><td>39            </td><td>43            </td><td>None          </td><td>Front         </td><td>...           </td><td>4             </td><td>161           </td><td> 93           </td><td>63            </td><td>34            </td><td>27.5          </td><td>10            </td><td>1965          </td><td>non-USA       </td><td>Suzuki Swift  </td></tr>\n",
       "\t<tr><td>Subaru        </td><td>Justy         </td><td>Small         </td><td>7.3           </td><td> 8.4          </td><td> 9.5          </td><td>33            </td><td>37            </td><td>None          </td><td>4WD           </td><td>...           </td><td>4             </td><td>146           </td><td> 90           </td><td>60            </td><td>32            </td><td>23.5          </td><td>10            </td><td>2045          </td><td>non-USA       </td><td>Subaru Justy  </td></tr>\n",
       "\t<tr><td>Toyota        </td><td>Tercel        </td><td>Small         </td><td>7.8           </td><td> 9.8          </td><td>11.8          </td><td>32            </td><td>37            </td><td>Driver only   </td><td>Front         </td><td>...           </td><td>5             </td><td>162           </td><td> 94           </td><td>65            </td><td>36            </td><td>24.0          </td><td>11            </td><td>2055          </td><td>non-USA       </td><td>Toyota Tercel </td></tr>\n",
       "\t<tr><td>Ford          </td><td>Festiva       </td><td>Small         </td><td>6.9           </td><td> 7.4          </td><td> 7.9          </td><td>31            </td><td>33            </td><td>None          </td><td>Front         </td><td>...           </td><td>4             </td><td>141           </td><td> 90           </td><td>63            </td><td>33            </td><td>26.0          </td><td>12            </td><td>1845          </td><td>USA           </td><td>Ford Festiva  </td></tr>\n",
       "\t<tr><td>Pontiac       </td><td>LeMans        </td><td>Small         </td><td>8.2           </td><td> 9.0          </td><td> 9.9          </td><td>31            </td><td>41            </td><td>None          </td><td>Front         </td><td>...           </td><td>4             </td><td>177           </td><td> 99           </td><td>66            </td><td>35            </td><td>25.5          </td><td>17            </td><td>2350          </td><td>USA           </td><td>Pontiac LeMans</td></tr>\n",
       "</tbody>\n",
       "</table>\n"
      ],
      "text/latex": [
       "\\begin{tabular}{r|lllllllllllllllllllllllllll}\n",
       " Manufacturer & Model & Type & Min.Price & Price & Max.Price & MPG.city & MPG.highway & AirBags & DriveTrain & ... & Passengers & Length & Wheelbase & Width & Turn.circle & Rear.seat.room & Luggage.room & Weight & Origin & Make\\\\\n",
       "\\hline\n",
       "\t Geo            & Metro          & Small          & 6.7            &  8.4           & 10.0           & 46             & 50             & None           & Front          & ...            & 4              & 151            &  93            & 63             & 34             & 27.5           & 10             & 1695           & non-USA        & Geo Metro     \\\\\n",
       "\t Honda          & Civic          & Small          & 8.4            & 12.1           & 15.8           & 42             & 46             & Driver only    & Front          & ...            & 4              & 173            & 103            & 67             & 36             & 28.0           & 12             & 2350           & non-USA        & Honda Civic   \\\\\n",
       "\t Suzuki         & Swift          & Small          & 7.3            &  8.6           & 10.0           & 39             & 43             & None           & Front          & ...            & 4              & 161            &  93            & 63             & 34             & 27.5           & 10             & 1965           & non-USA        & Suzuki Swift  \\\\\n",
       "\t Subaru         & Justy          & Small          & 7.3            &  8.4           &  9.5           & 33             & 37             & None           & 4WD            & ...            & 4              & 146            &  90            & 60             & 32             & 23.5           & 10             & 2045           & non-USA        & Subaru Justy  \\\\\n",
       "\t Toyota         & Tercel         & Small          & 7.8            &  9.8           & 11.8           & 32             & 37             & Driver only    & Front          & ...            & 5              & 162            &  94            & 65             & 36             & 24.0           & 11             & 2055           & non-USA        & Toyota Tercel \\\\\n",
       "\t Ford           & Festiva        & Small          & 6.9            &  7.4           &  7.9           & 31             & 33             & None           & Front          & ...            & 4              & 141            &  90            & 63             & 33             & 26.0           & 12             & 1845           & USA            & Ford Festiva  \\\\\n",
       "\t Pontiac        & LeMans         & Small          & 8.2            &  9.0           &  9.9           & 31             & 41             & None           & Front          & ...            & 4              & 177            &  99            & 66             & 35             & 25.5           & 17             & 2350           & USA            & Pontiac LeMans\\\\\n",
       "\\end{tabular}\n"
      ],
      "text/plain": [
       "  Manufacturer Model   Type  Min.Price Price Max.Price MPG.city MPG.highway\n",
       "1 Geo          Metro   Small 6.7        8.4  10.0      46       50         \n",
       "2 Honda        Civic   Small 8.4       12.1  15.8      42       46         \n",
       "3 Suzuki       Swift   Small 7.3        8.6  10.0      39       43         \n",
       "4 Subaru       Justy   Small 7.3        8.4   9.5      33       37         \n",
       "5 Toyota       Tercel  Small 7.8        9.8  11.8      32       37         \n",
       "6 Ford         Festiva Small 6.9        7.4   7.9      31       33         \n",
       "7 Pontiac      LeMans  Small 8.2        9.0   9.9      31       41         \n",
       "  AirBags     DriveTrain ... Passengers Length Wheelbase Width Turn.circle\n",
       "1 None        Front      ... 4          151     93       63    34         \n",
       "2 Driver only Front      ... 4          173    103       67    36         \n",
       "3 None        Front      ... 4          161     93       63    34         \n",
       "4 None        4WD        ... 4          146     90       60    32         \n",
       "5 Driver only Front      ... 5          162     94       65    36         \n",
       "6 None        Front      ... 4          141     90       63    33         \n",
       "7 None        Front      ... 4          177     99       66    35         \n",
       "  Rear.seat.room Luggage.room Weight Origin  Make          \n",
       "1 27.5           10           1695   non-USA Geo Metro     \n",
       "2 28.0           12           2350   non-USA Honda Civic   \n",
       "3 27.5           10           1965   non-USA Suzuki Swift  \n",
       "4 23.5           10           2045   non-USA Subaru Justy  \n",
       "5 24.0           11           2055   non-USA Toyota Tercel \n",
       "6 26.0           12           1845   USA     Ford Festiva  \n",
       "7 25.5           17           2350   USA     Pontiac LeMans"
      ]
     },
     "metadata": {},
     "output_type": "display_data"
    }
   ],
   "source": [
    "head(arrange(Cars93, desc (MPG.city), Max.Price), 7)"
   ]
  },
  {
   "cell_type": "code",
   "execution_count": 9,
   "metadata": {
    "collapsed": false
   },
   "outputs": [
    {
     "data": {
      "text/html": [
       "<table>\n",
       "<thead><tr><th scope=col>Manufacturer</th><th scope=col>Price</th></tr></thead>\n",
       "<tbody>\n",
       "\t<tr><td>Acura</td><td>15.9 </td></tr>\n",
       "\t<tr><td>Acura</td><td>33.9 </td></tr>\n",
       "\t<tr><td>Audi </td><td>29.1 </td></tr>\n",
       "</tbody>\n",
       "</table>\n"
      ],
      "text/latex": [
       "\\begin{tabular}{r|ll}\n",
       " Manufacturer & Price\\\\\n",
       "\\hline\n",
       "\t Acura & 15.9 \\\\\n",
       "\t Acura & 33.9 \\\\\n",
       "\t Audi  & 29.1 \\\\\n",
       "\\end{tabular}\n"
      ],
      "text/plain": [
       "  Manufacturer Price\n",
       "1 Acura        15.9 \n",
       "2 Acura        33.9 \n",
       "3 Audi         29.1 "
      ]
     },
     "metadata": {},
     "output_type": "display_data"
    }
   ],
   "source": [
    "head (select (Cars93, Manufacturer, Price), 3)\n"
   ]
  },
  {
   "cell_type": "code",
   "execution_count": 10,
   "metadata": {
    "collapsed": false
   },
   "outputs": [
    {
     "data": {
      "text/html": [
       "<table>\n",
       "<thead><tr><th scope=col>Min.Price</th><th scope=col>Price</th><th scope=col>Max.Price</th></tr></thead>\n",
       "<tbody>\n",
       "\t<tr><td>12.9</td><td>15.9</td><td>18.8</td></tr>\n",
       "\t<tr><td>29.2</td><td>33.9</td><td>38.7</td></tr>\n",
       "\t<tr><td>25.9</td><td>29.1</td><td>32.3</td></tr>\n",
       "</tbody>\n",
       "</table>\n"
      ],
      "text/latex": [
       "\\begin{tabular}{r|lll}\n",
       " Min.Price & Price & Max.Price\\\\\n",
       "\\hline\n",
       "\t 12.9 & 15.9 & 18.8\\\\\n",
       "\t 29.2 & 33.9 & 38.7\\\\\n",
       "\t 25.9 & 29.1 & 32.3\\\\\n",
       "\\end{tabular}\n"
      ],
      "text/plain": [
       "  Min.Price Price Max.Price\n",
       "1 12.9      15.9  18.8     \n",
       "2 29.2      33.9  38.7     \n",
       "3 25.9      29.1  32.3     "
      ]
     },
     "metadata": {},
     "output_type": "display_data"
    }
   ],
   "source": [
    "head (select (Cars93, contains (\"Price\")), 3)"
   ]
  },
  {
   "cell_type": "code",
   "execution_count": 11,
   "metadata": {
    "collapsed": false
   },
   "outputs": [
    {
     "data": {
      "text/html": [
       "<table>\n",
       "<thead><tr><th scope=col>myPrize</th><th scope=col>Min.Price</th></tr></thead>\n",
       "<tbody>\n",
       "\t<tr><td>15.9</td><td>12.9</td></tr>\n",
       "\t<tr><td>33.9</td><td>29.2</td></tr>\n",
       "\t<tr><td>29.1</td><td>25.9</td></tr>\n",
       "\t<tr><td>37.7</td><td>30.8</td></tr>\n",
       "\t<tr><td>30.0</td><td>23.7</td></tr>\n",
       "\t<tr><td>15.7</td><td>14.2</td></tr>\n",
       "</tbody>\n",
       "</table>\n"
      ],
      "text/latex": [
       "\\begin{tabular}{r|ll}\n",
       " myPrize & Min.Price\\\\\n",
       "\\hline\n",
       "\t 15.9 & 12.9\\\\\n",
       "\t 33.9 & 29.2\\\\\n",
       "\t 29.1 & 25.9\\\\\n",
       "\t 37.7 & 30.8\\\\\n",
       "\t 30.0 & 23.7\\\\\n",
       "\t 15.7 & 14.2\\\\\n",
       "\\end{tabular}\n"
      ],
      "text/plain": [
       "  myPrize Min.Price\n",
       "1 15.9    12.9     \n",
       "2 33.9    29.2     \n",
       "3 29.1    25.9     \n",
       "4 37.7    30.8     \n",
       "5 30.0    23.7     \n",
       "6 15.7    14.2     "
      ]
     },
     "metadata": {},
     "output_type": "display_data"
    }
   ],
   "source": [
    "head (select (Cars93, myPrize = Price, Min.Price))"
   ]
  },
  {
   "cell_type": "code",
   "execution_count": 12,
   "metadata": {
    "collapsed": false
   },
   "outputs": [
    {
     "data": {
      "text/html": [
       "<table>\n",
       "<thead><tr><th scope=col>Manufacturer</th><th scope=col>is_ford</th></tr></thead>\n",
       "<tbody>\n",
       "\t<tr><td>Acura</td><td>FALSE</td></tr>\n",
       "\t<tr><td>Acura</td><td>FALSE</td></tr>\n",
       "\t<tr><td>Audi </td><td>FALSE</td></tr>\n",
       "</tbody>\n",
       "</table>\n"
      ],
      "text/latex": [
       "\\begin{tabular}{r|ll}\n",
       " Manufacturer & is\\_ford\\\\\n",
       "\\hline\n",
       "\t Acura & FALSE\\\\\n",
       "\t Acura & FALSE\\\\\n",
       "\t Audi  & FALSE\\\\\n",
       "\\end{tabular}\n"
      ],
      "text/plain": [
       "  Manufacturer is_ford\n",
       "1 Acura        FALSE  \n",
       "2 Acura        FALSE  \n",
       "3 Audi         FALSE  "
      ]
     },
     "metadata": {},
     "output_type": "display_data"
    }
   ],
   "source": [
    "m <- mutate(Cars93, is_ford = Manufacturer == \"Ford\")\n",
    "m[1:3, c(1,28)]"
   ]
  },
  {
   "cell_type": "code",
   "execution_count": 13,
   "metadata": {
    "collapsed": false
   },
   "outputs": [
    {
     "data": {
      "text/html": [
       "<table>\n",
       "<thead><tr><th scope=col>Type</th><th scope=col>count</th><th scope=col>min_es</th><th scope=col>max_es</th></tr></thead>\n",
       "<tbody>\n",
       "\t<tr><td>Compact</td><td>16     </td><td>2.0    </td><td>3.0    </td></tr>\n",
       "\t<tr><td>Large  </td><td>11     </td><td>3.3    </td><td>5.7    </td></tr>\n",
       "\t<tr><td>Midsize</td><td>22     </td><td>2.0    </td><td>4.6    </td></tr>\n",
       "\t<tr><td>Small  </td><td>21     </td><td>1.0    </td><td>2.2    </td></tr>\n",
       "\t<tr><td>Sporty </td><td>14     </td><td>1.3    </td><td>5.7    </td></tr>\n",
       "\t<tr><td>Van    </td><td> 9     </td><td>2.4    </td><td>4.3    </td></tr>\n",
       "</tbody>\n",
       "</table>\n"
      ],
      "text/latex": [
       "\\begin{tabular}{r|llll}\n",
       " Type & count & min\\_es & max\\_es\\\\\n",
       "\\hline\n",
       "\t Compact & 16      & 2.0     & 3.0    \\\\\n",
       "\t Large   & 11      & 3.3     & 5.7    \\\\\n",
       "\t Midsize & 22      & 2.0     & 4.6    \\\\\n",
       "\t Small   & 21      & 1.0     & 2.2    \\\\\n",
       "\t Sporty  & 14      & 1.3     & 5.7    \\\\\n",
       "\t Van     &  9      & 2.4     & 4.3    \\\\\n",
       "\\end{tabular}\n"
      ],
      "text/plain": [
       "  Type    count min_es max_es\n",
       "1 Compact 16    2.0    3.0   \n",
       "2 Large   11    3.3    5.7   \n",
       "3 Midsize 22    2.0    4.6   \n",
       "4 Small   21    1.0    2.2   \n",
       "5 Sporty  14    1.3    5.7   \n",
       "6 Van      9    2.4    4.3   "
      ]
     },
     "metadata": {},
     "output_type": "display_data"
    }
   ],
   "source": [
    "by_type <- group_by (Cars93, Type)\n",
    "summarize (by_type,\n",
    " count = n(),min_es = min(EngineSize),\n",
    " max_es = max(EngineSize)\n",
    ")"
   ]
  },
  {
   "cell_type": "code",
   "execution_count": 14,
   "metadata": {
    "collapsed": false
   },
   "outputs": [
    {
     "data": {
      "text/html": [
       "<table>\n",
       "<thead><tr><th scope=col>Type</th><th scope=col>count</th><th scope=col>min_es</th><th scope=col>max_es</th></tr></thead>\n",
       "<tbody>\n",
       "\t<tr><td>Compact</td><td>16     </td><td>2.0    </td><td>3.0    </td></tr>\n",
       "\t<tr><td>Large  </td><td>11     </td><td>3.3    </td><td>5.7    </td></tr>\n",
       "\t<tr><td>Midsize</td><td>22     </td><td>2.0    </td><td>4.6    </td></tr>\n",
       "\t<tr><td>Small  </td><td>21     </td><td>1.0    </td><td>2.2    </td></tr>\n",
       "\t<tr><td>Sporty </td><td>14     </td><td>1.3    </td><td>5.7    </td></tr>\n",
       "\t<tr><td>Van    </td><td> 9     </td><td>2.4    </td><td>4.3    </td></tr>\n",
       "</tbody>\n",
       "</table>\n"
      ],
      "text/latex": [
       "\\begin{tabular}{r|llll}\n",
       " Type & count & min\\_es & max\\_es\\\\\n",
       "\\hline\n",
       "\t Compact & 16      & 2.0     & 3.0    \\\\\n",
       "\t Large   & 11      & 3.3     & 5.7    \\\\\n",
       "\t Midsize & 22      & 2.0     & 4.6    \\\\\n",
       "\t Small   & 21      & 1.0     & 2.2    \\\\\n",
       "\t Sporty  & 14      & 1.3     & 5.7    \\\\\n",
       "\t Van     &  9      & 2.4     & 4.3    \\\\\n",
       "\\end{tabular}\n"
      ],
      "text/plain": [
       "  Type    count min_es max_es\n",
       "1 Compact 16    2.0    3.0   \n",
       "2 Large   11    3.3    5.7   \n",
       "3 Midsize 22    2.0    4.6   \n",
       "4 Small   21    1.0    2.2   \n",
       "5 Sporty  14    1.3    5.7   \n",
       "6 Van      9    2.4    4.3   "
      ]
     },
     "metadata": {},
     "output_type": "display_data"
    }
   ],
   "source": [
    "Cars93 %>%\n",
    " group_by(Type) %>%\n",
    " summarize(count = n(), min_es = min(EngineSize), max_es =\n",
    "max(EngineSize) )"
   ]
  },
  {
   "cell_type": "code",
   "execution_count": 15,
   "metadata": {
    "collapsed": false
   },
   "outputs": [
    {
     "data": {
      "text/html": [
       "<table>\n",
       "<thead><tr><th scope=col>Manufacturer</th><th scope=col>Model</th><th scope=col>Type</th><th scope=col>Min.Price</th><th scope=col>Price</th><th scope=col>Max.Price</th><th scope=col>MPG.city</th><th scope=col>MPG.highway</th><th scope=col>AirBags</th><th scope=col>DriveTrain</th><th scope=col>...</th><th scope=col>Passengers</th><th scope=col>Length</th><th scope=col>Wheelbase</th><th scope=col>Width</th><th scope=col>Turn.circle</th><th scope=col>Rear.seat.room</th><th scope=col>Luggage.room</th><th scope=col>Weight</th><th scope=col>Origin</th><th scope=col>Make</th></tr></thead>\n",
       "<tbody>\n",
       "\t<tr><td>Audi                </td><td>90                  </td><td>Compact             </td><td>25.9                </td><td>29.1                </td><td>32.3                </td><td>20                  </td><td>26                  </td><td>Driver only         </td><td>Front               </td><td>...                 </td><td>5                   </td><td>180                 </td><td>102                 </td><td>67                  </td><td>37                  </td><td>28.0                </td><td>14                  </td><td>3375                </td><td>non-USA             </td><td>Audi 90             </td></tr>\n",
       "\t<tr><td>Chevrolet           </td><td>Cavalier            </td><td>Compact             </td><td> 8.5                </td><td>13.4                </td><td>18.3                </td><td>25                  </td><td>36                  </td><td>None                </td><td>Front               </td><td>...                 </td><td>5                   </td><td>182                 </td><td>101                 </td><td>66                  </td><td>38                  </td><td>25.0                </td><td>13                  </td><td>2490                </td><td>USA                 </td><td>Chevrolet Cavalier  </td></tr>\n",
       "\t<tr><td>Buick               </td><td>LeSabre             </td><td>Large               </td><td>19.9                </td><td>20.8                </td><td>21.7                </td><td>19                  </td><td>28                  </td><td>Driver only         </td><td>Front               </td><td>...                 </td><td>6                   </td><td>200                 </td><td>111                 </td><td>74                  </td><td>42                  </td><td>30.5                </td><td>17                  </td><td>3470                </td><td>USA                 </td><td>Buick LeSabre       </td></tr>\n",
       "\t<tr><td>Buick               </td><td>Roadmaster          </td><td>Large               </td><td>22.6                </td><td>23.7                </td><td>24.9                </td><td>16                  </td><td>25                  </td><td>Driver only         </td><td>Rear                </td><td>...                 </td><td>6                   </td><td>216                 </td><td>116                 </td><td>78                  </td><td>45                  </td><td>30.5                </td><td>21                  </td><td>4105                </td><td>USA                 </td><td>Buick Roadmaster    </td></tr>\n",
       "\t<tr><td><span style=white-space:pre-wrap>Acura    </span>           </td><td><span style=white-space:pre-wrap>Legend    </span>          </td><td>Midsize                                                     </td><td>29.2                                                        </td><td>33.9                                                        </td><td>38.7                                                        </td><td>18                                                          </td><td>25                                                          </td><td>Driver &amp; Passenger                                      </td><td>Front                                                       </td><td>...                                                         </td><td>5                                                           </td><td>195                                                         </td><td>115                                                         </td><td>71                                                          </td><td>38                                                          </td><td>30.0                                                        </td><td>15                                                          </td><td>3560                                                        </td><td>non-USA                                                     </td><td><span style=white-space:pre-wrap>Acura Legend        </span></td></tr>\n",
       "\t<tr><td><span style=white-space:pre-wrap>Audi     </span>           </td><td><span style=white-space:pre-wrap>100       </span>          </td><td>Midsize                                                     </td><td>30.8                                                        </td><td>37.7                                                        </td><td>44.6                                                        </td><td>19                                                          </td><td>26                                                          </td><td>Driver &amp; Passenger                                      </td><td>Front                                                       </td><td>...                                                         </td><td>6                                                           </td><td>193                                                         </td><td>106                                                         </td><td>70                                                          </td><td>37                                                          </td><td>31.0                                                        </td><td>17                                                          </td><td>3405                                                        </td><td>non-USA                                                     </td><td><span style=white-space:pre-wrap>Audi 100            </span></td></tr>\n",
       "\t<tr><td>Acura               </td><td>Integra             </td><td>Small               </td><td>12.9                </td><td>15.9                </td><td>18.8                </td><td>25                  </td><td>31                  </td><td>None                </td><td>Front               </td><td>...                 </td><td>5                   </td><td>177                 </td><td>102                 </td><td>68                  </td><td>37                  </td><td>26.5                </td><td>11                  </td><td>2705                </td><td>non-USA             </td><td>Acura Integra       </td></tr>\n",
       "\t<tr><td>Dodge               </td><td>Colt                </td><td>Small               </td><td> 7.9                </td><td> 9.2                </td><td>10.6                </td><td>29                  </td><td>33                  </td><td>None                </td><td>Front               </td><td>...                 </td><td>5                   </td><td>174                 </td><td> 98                 </td><td>66                  </td><td>32                  </td><td>26.5                </td><td>11                  </td><td>2270                </td><td>USA                 </td><td>Dodge Colt          </td></tr>\n",
       "\t<tr><td>Chevrolet                                                   </td><td><span style=white-space:pre-wrap>Camaro    </span>          </td><td>Sporty                                                      </td><td>13.4                                                        </td><td>15.1                                                        </td><td>16.8                                                        </td><td>19                                                          </td><td>28                                                          </td><td>Driver &amp; Passenger                                      </td><td>Rear                                                        </td><td>...                                                         </td><td>4                                                           </td><td>193                                                         </td><td>101                                                         </td><td>74                                                          </td><td>43                                                          </td><td>25.0                                                        </td><td>13                                                          </td><td>3240                                                        </td><td><span style=white-space:pre-wrap>USA    </span>             </td><td><span style=white-space:pre-wrap>Chevrolet Camaro    </span></td></tr>\n",
       "\t<tr><td>Chevrolet           </td><td>Corvette            </td><td>Sporty              </td><td>34.6                </td><td>38.0                </td><td>41.5                </td><td>17                  </td><td>25                  </td><td>Driver only         </td><td>Rear                </td><td>...                 </td><td>2                   </td><td>179                 </td><td> 96                 </td><td>74                  </td><td>43                  </td><td>  NA                </td><td>NA                  </td><td>3380                </td><td>USA                 </td><td>Chevrolet Corvette  </td></tr>\n",
       "\t<tr><td>Chevrolet           </td><td>Lumina_APV          </td><td>Van                 </td><td>14.7                </td><td>16.3                </td><td>18.0                </td><td>18                  </td><td>23                  </td><td>None                </td><td>Front               </td><td>...                 </td><td>7                   </td><td>178                 </td><td>110                 </td><td>74                  </td><td>44                  </td><td>30.5                </td><td>NA                  </td><td>3715                </td><td>USA                 </td><td>Chevrolet Lumina_APV</td></tr>\n",
       "\t<tr><td>Chevrolet           </td><td>Astro               </td><td>Van                 </td><td>14.7                </td><td>16.6                </td><td>18.6                </td><td>15                  </td><td>20                  </td><td>None                </td><td>4WD                 </td><td>...                 </td><td>8                   </td><td>194                 </td><td>111                 </td><td>78                  </td><td>42                  </td><td>33.5                </td><td>NA                  </td><td>4025                </td><td>USA                 </td><td>Chevrolet Astro     </td></tr>\n",
       "</tbody>\n",
       "</table>\n"
      ],
      "text/latex": [
       "\\begin{tabular}{r|lllllllllllllllllllllllllll}\n",
       " Manufacturer & Model & Type & Min.Price & Price & Max.Price & MPG.city & MPG.highway & AirBags & DriveTrain & ... & Passengers & Length & Wheelbase & Width & Turn.circle & Rear.seat.room & Luggage.room & Weight & Origin & Make\\\\\n",
       "\\hline\n",
       "\t Audi                 & 90                   & Compact              & 25.9                 & 29.1                 & 32.3                 & 20                   & 26                   & Driver only          & Front                & ...                  & 5                    & 180                  & 102                  & 67                   & 37                   & 28.0                 & 14                   & 3375                 & non-USA              & Audi 90             \\\\\n",
       "\t Chevrolet            & Cavalier             & Compact              &  8.5                 & 13.4                 & 18.3                 & 25                   & 36                   & None                 & Front                & ...                  & 5                    & 182                  & 101                  & 66                   & 38                   & 25.0                 & 13                   & 2490                 & USA                  & Chevrolet Cavalier  \\\\\n",
       "\t Buick                & LeSabre              & Large                & 19.9                 & 20.8                 & 21.7                 & 19                   & 28                   & Driver only          & Front                & ...                  & 6                    & 200                  & 111                  & 74                   & 42                   & 30.5                 & 17                   & 3470                 & USA                  & Buick LeSabre       \\\\\n",
       "\t Buick                & Roadmaster           & Large                & 22.6                 & 23.7                 & 24.9                 & 16                   & 25                   & Driver only          & Rear                 & ...                  & 6                    & 216                  & 116                  & 78                   & 45                   & 30.5                 & 21                   & 4105                 & USA                  & Buick Roadmaster    \\\\\n",
       "\t Acura                & Legend               & Midsize              & 29.2                 & 33.9                 & 38.7                 & 18                   & 25                   & Driver \\& Passenger & Front                & ...                  & 5                    & 195                  & 115                  & 71                   & 38                   & 30.0                 & 15                   & 3560                 & non-USA              & Acura Legend        \\\\\n",
       "\t Audi                 & 100                  & Midsize              & 30.8                 & 37.7                 & 44.6                 & 19                   & 26                   & Driver \\& Passenger & Front                & ...                  & 6                    & 193                  & 106                  & 70                   & 37                   & 31.0                 & 17                   & 3405                 & non-USA              & Audi 100            \\\\\n",
       "\t Acura                & Integra              & Small                & 12.9                 & 15.9                 & 18.8                 & 25                   & 31                   & None                 & Front                & ...                  & 5                    & 177                  & 102                  & 68                   & 37                   & 26.5                 & 11                   & 2705                 & non-USA              & Acura Integra       \\\\\n",
       "\t Dodge                & Colt                 & Small                &  7.9                 &  9.2                 & 10.6                 & 29                   & 33                   & None                 & Front                & ...                  & 5                    & 174                  &  98                  & 66                   & 32                   & 26.5                 & 11                   & 2270                 & USA                  & Dodge Colt          \\\\\n",
       "\t Chevrolet            & Camaro               & Sporty               & 13.4                 & 15.1                 & 16.8                 & 19                   & 28                   & Driver \\& Passenger & Rear                 & ...                  & 4                    & 193                  & 101                  & 74                   & 43                   & 25.0                 & 13                   & 3240                 & USA                  & Chevrolet Camaro    \\\\\n",
       "\t Chevrolet            & Corvette             & Sporty               & 34.6                 & 38.0                 & 41.5                 & 17                   & 25                   & Driver only          & Rear                 & ...                  & 2                    & 179                  &  96                  & 74                   & 43                   &   NA                 & NA                   & 3380                 & USA                  & Chevrolet Corvette  \\\\\n",
       "\t Chevrolet              & Lumina\\_APV           & Van                    & 14.7                   & 16.3                   & 18.0                   & 18                     & 23                     & None                   & Front                  & ...                    & 7                      & 178                    & 110                    & 74                     & 44                     & 30.5                   & NA                     & 3715                   & USA                    & Chevrolet Lumina\\_APV\\\\\n",
       "\t Chevrolet            & Astro                & Van                  & 14.7                 & 16.6                 & 18.6                 & 15                   & 20                   & None                 & 4WD                  & ...                  & 8                    & 194                  & 111                  & 78                   & 42                   & 33.5                 & NA                   & 4025                 & USA                  & Chevrolet Astro     \\\\\n",
       "\\end{tabular}\n"
      ],
      "text/plain": [
       "   Manufacturer Model      Type    Min.Price Price Max.Price MPG.city\n",
       "1  Audi         90         Compact 25.9      29.1  32.3      20      \n",
       "2  Chevrolet    Cavalier   Compact  8.5      13.4  18.3      25      \n",
       "3  Buick        LeSabre    Large   19.9      20.8  21.7      19      \n",
       "4  Buick        Roadmaster Large   22.6      23.7  24.9      16      \n",
       "5  Acura        Legend     Midsize 29.2      33.9  38.7      18      \n",
       "6  Audi         100        Midsize 30.8      37.7  44.6      19      \n",
       "7  Acura        Integra    Small   12.9      15.9  18.8      25      \n",
       "8  Dodge        Colt       Small    7.9       9.2  10.6      29      \n",
       "9  Chevrolet    Camaro     Sporty  13.4      15.1  16.8      19      \n",
       "10 Chevrolet    Corvette   Sporty  34.6      38.0  41.5      17      \n",
       "11 Chevrolet    Lumina_APV Van     14.7      16.3  18.0      18      \n",
       "12 Chevrolet    Astro      Van     14.7      16.6  18.6      15      \n",
       "   MPG.highway AirBags            DriveTrain ... Passengers Length Wheelbase\n",
       "1  26          Driver only        Front      ... 5          180    102      \n",
       "2  36          None               Front      ... 5          182    101      \n",
       "3  28          Driver only        Front      ... 6          200    111      \n",
       "4  25          Driver only        Rear       ... 6          216    116      \n",
       "5  25          Driver & Passenger Front      ... 5          195    115      \n",
       "6  26          Driver & Passenger Front      ... 6          193    106      \n",
       "7  31          None               Front      ... 5          177    102      \n",
       "8  33          None               Front      ... 5          174     98      \n",
       "9  28          Driver & Passenger Rear       ... 4          193    101      \n",
       "10 25          Driver only        Rear       ... 2          179     96      \n",
       "11 23          None               Front      ... 7          178    110      \n",
       "12 20          None               4WD        ... 8          194    111      \n",
       "   Width Turn.circle Rear.seat.room Luggage.room Weight Origin \n",
       "1  67    37          28.0           14           3375   non-USA\n",
       "2  66    38          25.0           13           2490   USA    \n",
       "3  74    42          30.5           17           3470   USA    \n",
       "4  78    45          30.5           21           4105   USA    \n",
       "5  71    38          30.0           15           3560   non-USA\n",
       "6  70    37          31.0           17           3405   non-USA\n",
       "7  68    37          26.5           11           2705   non-USA\n",
       "8  66    32          26.5           11           2270   USA    \n",
       "9  74    43          25.0           13           3240   USA    \n",
       "10 74    43            NA           NA           3380   USA    \n",
       "11 74    44          30.5           NA           3715   USA    \n",
       "12 78    42          33.5           NA           4025   USA    \n",
       "   Make                \n",
       "1  Audi 90             \n",
       "2  Chevrolet Cavalier  \n",
       "3  Buick LeSabre       \n",
       "4  Buick Roadmaster    \n",
       "5  Acura Legend        \n",
       "6  Audi 100            \n",
       "7  Acura Integra       \n",
       "8  Dodge Colt          \n",
       "9  Chevrolet Camaro    \n",
       "10 Chevrolet Corvette  \n",
       "11 Chevrolet Lumina_APV\n",
       "12 Chevrolet Astro     "
      ]
     },
     "metadata": {},
     "output_type": "display_data"
    }
   ],
   "source": [
    "Cars93 %>% group_by(Type) %>% slice(1:2)"
   ]
  },
  {
   "cell_type": "code",
   "execution_count": 16,
   "metadata": {
    "collapsed": false
   },
   "outputs": [
    {
     "data": {
      "text/html": [
       "<table>\n",
       "<thead><tr><th scope=col>Type</th><th scope=col>min.ES2</th></tr></thead>\n",
       "<tbody>\n",
       "\t<tr><td>Large  </td><td>10.89  </td></tr>\n",
       "\t<tr><td>Van    </td><td> 5.76  </td></tr>\n",
       "\t<tr><td>Compact</td><td> 4.00  </td></tr>\n",
       "\t<tr><td>Midsize</td><td> 4.00  </td></tr>\n",
       "\t<tr><td>Sporty </td><td> 1.69  </td></tr>\n",
       "\t<tr><td>Small  </td><td> 1.00  </td></tr>\n",
       "</tbody>\n",
       "</table>\n"
      ],
      "text/latex": [
       "\\begin{tabular}{r|ll}\n",
       " Type & min.ES2\\\\\n",
       "\\hline\n",
       "\t Large   & 10.89  \\\\\n",
       "\t Van     &  5.76  \\\\\n",
       "\t Compact &  4.00  \\\\\n",
       "\t Midsize &  4.00  \\\\\n",
       "\t Sporty  &  1.69  \\\\\n",
       "\t Small   &  1.00  \\\\\n",
       "\\end{tabular}\n"
      ],
      "text/plain": [
       "  Type    min.ES2\n",
       "1 Large   10.89  \n",
       "2 Van      5.76  \n",
       "3 Compact  4.00  \n",
       "4 Midsize  4.00  \n",
       "5 Sporty   1.69  \n",
       "6 Small    1.00  "
      ]
     },
     "metadata": {},
     "output_type": "display_data"
    }
   ],
   "source": [
    "Cars93 %>% mutate(ES2 = EngineSize^2) %>% group_by(Type) %>%\n",
    "summarize(min.ES2 = min(ES2)) %>% arrange(desc(min.ES2))"
   ]
  },
  {
   "cell_type": "markdown",
   "metadata": {},
   "source": [
    "wINDOWS "
   ]
  },
  {
   "cell_type": "code",
   "execution_count": 17,
   "metadata": {
    "collapsed": false,
    "scrolled": true
   },
   "outputs": [
    {
     "data": {
      "text/html": [
       "<table>\n",
       "<thead><tr><th scope=col>Manufacturer</th><th scope=col>Model</th><th scope=col>Type</th><th scope=col>Min.Price</th><th scope=col>Price</th><th scope=col>cmean</th><th scope=col>csum</th></tr></thead>\n",
       "<tbody>\n",
       "\t<tr><td>Audi          </td><td>90            </td><td>Compact       </td><td>25.9          </td><td>29.1          </td><td>29.10000      </td><td> 29.1         </td></tr>\n",
       "\t<tr><td>Chevrolet     </td><td>Cavalier      </td><td>Compact       </td><td> 8.5          </td><td>13.4          </td><td>21.25000      </td><td> 42.5         </td></tr>\n",
       "\t<tr><td>Chevrolet     </td><td>Corsica       </td><td>Compact       </td><td>11.4          </td><td>11.4          </td><td>17.96667      </td><td> 53.9         </td></tr>\n",
       "\t<tr><td>Chrysler      </td><td>LeBaron       </td><td>Compact       </td><td>14.5          </td><td>15.8          </td><td>17.42500      </td><td> 69.7         </td></tr>\n",
       "\t<tr><td>Dodge         </td><td>Spirit        </td><td>Compact       </td><td>11.9          </td><td>13.3          </td><td>16.60000      </td><td> 83.0         </td></tr>\n",
       "\t<tr><td>Ford          </td><td>Tempo         </td><td>Compact       </td><td>10.4          </td><td>11.3          </td><td>15.71667      </td><td> 94.3         </td></tr>\n",
       "\t<tr><td>Honda         </td><td>Accord        </td><td>Compact       </td><td>13.8          </td><td>17.5          </td><td>15.97143      </td><td>111.8         </td></tr>\n",
       "\t<tr><td>Mazda         </td><td>626           </td><td>Compact       </td><td>14.3          </td><td>16.5          </td><td>16.03750      </td><td>128.3         </td></tr>\n",
       "\t<tr><td>Mercedes-Benz </td><td>190E          </td><td>Compact       </td><td>29.0          </td><td>31.9          </td><td>17.80000      </td><td>160.2         </td></tr>\n",
       "\t<tr><td>Nissan        </td><td>Altima        </td><td>Compact       </td><td>13.0          </td><td>15.7          </td><td>17.59000      </td><td>175.9         </td></tr>\n",
       "\t<tr><td>Oldsmobile    </td><td>Achieva       </td><td>Compact       </td><td>13.0          </td><td>13.5          </td><td>17.21818      </td><td>189.4         </td></tr>\n",
       "\t<tr><td>Pontiac       </td><td>Sunbird       </td><td>Compact       </td><td> 9.4          </td><td>11.1          </td><td>16.70833      </td><td>200.5         </td></tr>\n",
       "\t<tr><td>Saab          </td><td>900           </td><td>Compact       </td><td>20.3          </td><td>28.7          </td><td>17.63077      </td><td>229.2         </td></tr>\n",
       "\t<tr><td>Subaru        </td><td>Legacy        </td><td>Compact       </td><td>16.3          </td><td>19.5          </td><td>17.76429      </td><td>248.7         </td></tr>\n",
       "\t<tr><td>Volkswagen    </td><td>Passat        </td><td>Compact       </td><td>17.6          </td><td>20.0          </td><td>17.91333      </td><td>268.7         </td></tr>\n",
       "\t<tr><td>Volvo         </td><td>240           </td><td>Compact       </td><td>21.8          </td><td>22.7          </td><td>18.21250      </td><td>291.4         </td></tr>\n",
       "\t<tr><td>Buick         </td><td>LeSabre       </td><td>Large         </td><td>19.9          </td><td>20.8          </td><td>20.80000      </td><td> 20.8         </td></tr>\n",
       "\t<tr><td>Buick         </td><td>Roadmaster    </td><td>Large         </td><td>22.6          </td><td>23.7          </td><td>22.25000      </td><td> 44.5         </td></tr>\n",
       "\t<tr><td>Cadillac      </td><td>DeVille       </td><td>Large         </td><td>33.0          </td><td>34.7          </td><td>26.40000      </td><td> 79.2         </td></tr>\n",
       "\t<tr><td>Chevrolet     </td><td>Caprice       </td><td>Large         </td><td>18.0          </td><td>18.8          </td><td>24.50000      </td><td> 98.0         </td></tr>\n",
       "\t<tr><td>Chrylser      </td><td>Concorde      </td><td>Large         </td><td>18.4          </td><td>18.4          </td><td>23.28000      </td><td>116.4         </td></tr>\n",
       "\t<tr><td>Chrysler      </td><td>Imperial      </td><td>Large         </td><td>29.5          </td><td>29.5          </td><td>24.31667      </td><td>145.9         </td></tr>\n",
       "\t<tr><td>Eagle         </td><td>Vision        </td><td>Large         </td><td>17.5          </td><td>19.3          </td><td>23.60000      </td><td>165.2         </td></tr>\n",
       "\t<tr><td>Ford          </td><td>Crown_Victoria</td><td>Large         </td><td>20.1          </td><td>20.9          </td><td>23.26250      </td><td>186.1         </td></tr>\n",
       "\t<tr><td>Lincoln       </td><td>Town_Car      </td><td>Large         </td><td>34.4          </td><td>36.1          </td><td>24.68889      </td><td>222.2         </td></tr>\n",
       "\t<tr><td>Oldsmobile    </td><td>Eighty-Eight  </td><td>Large         </td><td>19.5          </td><td>20.7          </td><td>24.29000      </td><td>242.9         </td></tr>\n",
       "\t<tr><td>Pontiac       </td><td>Bonneville    </td><td>Large         </td><td>19.4          </td><td>24.4          </td><td>24.30000      </td><td>267.3         </td></tr>\n",
       "\t<tr><td>Acura         </td><td>Legend        </td><td>Midsize       </td><td>29.2          </td><td>33.9          </td><td>33.90000      </td><td> 33.9         </td></tr>\n",
       "\t<tr><td>Audi          </td><td>100           </td><td>Midsize       </td><td>30.8          </td><td>37.7          </td><td>35.80000      </td><td> 71.6         </td></tr>\n",
       "\t<tr><td>BMW           </td><td>535i          </td><td>Midsize       </td><td>23.7          </td><td>30.0          </td><td>33.86667      </td><td>101.6         </td></tr>\n",
       "\t<tr><td>...</td><td>...</td><td>...</td><td>...</td><td>...</td><td>...</td><td>...</td></tr>\n",
       "\t<tr><td>Pontiac   </td><td>LeMans    </td><td>Small     </td><td> 8.2      </td><td> 9.0      </td><td>10.37333  </td><td>155.6     </td></tr>\n",
       "\t<tr><td>Saturn    </td><td>SL        </td><td>Small     </td><td> 9.2      </td><td>11.1      </td><td>10.41875  </td><td>166.7     </td></tr>\n",
       "\t<tr><td>Subaru    </td><td>Justy     </td><td>Small     </td><td> 7.3      </td><td> 8.4      </td><td>10.30000  </td><td>175.1     </td></tr>\n",
       "\t<tr><td>Subaru    </td><td>Loyale    </td><td>Small     </td><td>10.5      </td><td>10.9      </td><td>10.33333  </td><td>186.0     </td></tr>\n",
       "\t<tr><td>Suzuki    </td><td>Swift     </td><td>Small     </td><td> 7.3      </td><td> 8.6      </td><td>10.24211  </td><td>194.6     </td></tr>\n",
       "\t<tr><td>Toyota    </td><td>Tercel    </td><td>Small     </td><td> 7.8      </td><td> 9.8      </td><td>10.22000  </td><td>204.4     </td></tr>\n",
       "\t<tr><td>Volkswagen</td><td>Fox       </td><td>Small     </td><td> 8.7      </td><td> 9.1      </td><td>10.16667  </td><td>213.5     </td></tr>\n",
       "\t<tr><td>Chevrolet </td><td>Camaro    </td><td>Sporty    </td><td>13.4      </td><td>15.1      </td><td>15.10000  </td><td> 15.1     </td></tr>\n",
       "\t<tr><td>Chevrolet </td><td>Corvette  </td><td>Sporty    </td><td>34.6      </td><td>38.0      </td><td>26.55000  </td><td> 53.1     </td></tr>\n",
       "\t<tr><td>Dodge     </td><td>Stealth   </td><td>Sporty    </td><td>18.5      </td><td>25.8      </td><td>26.30000  </td><td> 78.9     </td></tr>\n",
       "\t<tr><td>Ford      </td><td>Mustang   </td><td>Sporty    </td><td>10.8      </td><td>15.9      </td><td>23.70000  </td><td> 94.8     </td></tr>\n",
       "\t<tr><td>Ford      </td><td>Probe     </td><td>Sporty    </td><td>12.8      </td><td>14.0      </td><td>21.76000  </td><td>108.8     </td></tr>\n",
       "\t<tr><td>Geo       </td><td>Storm     </td><td>Sporty    </td><td>11.5      </td><td>12.5      </td><td>20.21667  </td><td>121.3     </td></tr>\n",
       "\t<tr><td>Honda     </td><td>Prelude   </td><td>Sporty    </td><td>17.0      </td><td>19.8      </td><td>20.15714  </td><td>141.1     </td></tr>\n",
       "\t<tr><td>Hyundai   </td><td>Scoupe    </td><td>Sporty    </td><td> 9.1      </td><td>10.0      </td><td>18.88750  </td><td>151.1     </td></tr>\n",
       "\t<tr><td>Mazda     </td><td>RX-7      </td><td>Sporty    </td><td>32.5      </td><td>32.5      </td><td>20.40000  </td><td>183.6     </td></tr>\n",
       "\t<tr><td>Mercury   </td><td>Capri     </td><td>Sporty    </td><td>13.3      </td><td>14.1      </td><td>19.77000  </td><td>197.7     </td></tr>\n",
       "\t<tr><td>Plymouth  </td><td>Laser     </td><td>Sporty    </td><td>11.4      </td><td>14.4      </td><td>19.28182  </td><td>212.1     </td></tr>\n",
       "\t<tr><td>Pontiac   </td><td>Firebird  </td><td>Sporty    </td><td>14.0      </td><td>17.7      </td><td>19.15000  </td><td>229.8     </td></tr>\n",
       "\t<tr><td>Toyota    </td><td>Celica    </td><td>Sporty    </td><td>14.2      </td><td>18.4      </td><td>19.09231  </td><td>248.2     </td></tr>\n",
       "\t<tr><td>Volkswagen</td><td>Corrado   </td><td>Sporty    </td><td>22.9      </td><td>23.3      </td><td>19.39286  </td><td>271.5     </td></tr>\n",
       "\t<tr><td>Chevrolet </td><td>Lumina_APV</td><td>Van       </td><td>14.7      </td><td>16.3      </td><td>16.30000  </td><td> 16.3     </td></tr>\n",
       "\t<tr><td>Chevrolet </td><td>Astro     </td><td>Van       </td><td>14.7      </td><td>16.6      </td><td>16.45000  </td><td> 32.9     </td></tr>\n",
       "\t<tr><td>Dodge     </td><td>Caravan   </td><td>Van       </td><td>13.6      </td><td>19.0      </td><td>17.30000  </td><td> 51.9     </td></tr>\n",
       "\t<tr><td>Ford      </td><td>Aerostar  </td><td>Van       </td><td>14.5      </td><td>19.9      </td><td>17.95000  </td><td> 71.8     </td></tr>\n",
       "\t<tr><td>Mazda     </td><td>MPV       </td><td>Van       </td><td>16.6      </td><td>19.1      </td><td>18.18000  </td><td> 90.9     </td></tr>\n",
       "\t<tr><td>Nissan    </td><td>Quest     </td><td>Van       </td><td>16.7      </td><td>19.1      </td><td>18.33333  </td><td>110.0     </td></tr>\n",
       "\t<tr><td>Oldsmobile</td><td>Silhouette</td><td>Van       </td><td>19.5      </td><td>19.5      </td><td>18.50000  </td><td>129.5     </td></tr>\n",
       "\t<tr><td>Toyota    </td><td>Previa    </td><td>Van       </td><td>18.9      </td><td>22.7      </td><td>19.02500  </td><td>152.2     </td></tr>\n",
       "\t<tr><td>Volkswagen</td><td>Eurovan   </td><td>Van       </td><td>16.6      </td><td>19.7      </td><td>19.10000  </td><td>171.9     </td></tr>\n",
       "</tbody>\n",
       "</table>\n"
      ],
      "text/latex": [
       "\\begin{tabular}{r|lllllll}\n",
       " Manufacturer & Model & Type & Min.Price & Price & cmean & csum\\\\\n",
       "\\hline\n",
       "\t Audi           & 90             & Compact        & 25.9           & 29.1           & 29.10000       &  29.1         \\\\\n",
       "\t Chevrolet      & Cavalier       & Compact        &  8.5           & 13.4           & 21.25000       &  42.5         \\\\\n",
       "\t Chevrolet      & Corsica        & Compact        & 11.4           & 11.4           & 17.96667       &  53.9         \\\\\n",
       "\t Chrysler       & LeBaron        & Compact        & 14.5           & 15.8           & 17.42500       &  69.7         \\\\\n",
       "\t Dodge          & Spirit         & Compact        & 11.9           & 13.3           & 16.60000       &  83.0         \\\\\n",
       "\t Ford           & Tempo          & Compact        & 10.4           & 11.3           & 15.71667       &  94.3         \\\\\n",
       "\t Honda          & Accord         & Compact        & 13.8           & 17.5           & 15.97143       & 111.8         \\\\\n",
       "\t Mazda          & 626            & Compact        & 14.3           & 16.5           & 16.03750       & 128.3         \\\\\n",
       "\t Mercedes-Benz  & 190E           & Compact        & 29.0           & 31.9           & 17.80000       & 160.2         \\\\\n",
       "\t Nissan         & Altima         & Compact        & 13.0           & 15.7           & 17.59000       & 175.9         \\\\\n",
       "\t Oldsmobile     & Achieva        & Compact        & 13.0           & 13.5           & 17.21818       & 189.4         \\\\\n",
       "\t Pontiac        & Sunbird        & Compact        &  9.4           & 11.1           & 16.70833       & 200.5         \\\\\n",
       "\t Saab           & 900            & Compact        & 20.3           & 28.7           & 17.63077       & 229.2         \\\\\n",
       "\t Subaru         & Legacy         & Compact        & 16.3           & 19.5           & 17.76429       & 248.7         \\\\\n",
       "\t Volkswagen     & Passat         & Compact        & 17.6           & 20.0           & 17.91333       & 268.7         \\\\\n",
       "\t Volvo          & 240            & Compact        & 21.8           & 22.7           & 18.21250       & 291.4         \\\\\n",
       "\t Buick          & LeSabre        & Large          & 19.9           & 20.8           & 20.80000       &  20.8         \\\\\n",
       "\t Buick          & Roadmaster     & Large          & 22.6           & 23.7           & 22.25000       &  44.5         \\\\\n",
       "\t Cadillac       & DeVille        & Large          & 33.0           & 34.7           & 26.40000       &  79.2         \\\\\n",
       "\t Chevrolet      & Caprice        & Large          & 18.0           & 18.8           & 24.50000       &  98.0         \\\\\n",
       "\t Chrylser       & Concorde       & Large          & 18.4           & 18.4           & 23.28000       & 116.4         \\\\\n",
       "\t Chrysler       & Imperial       & Large          & 29.5           & 29.5           & 24.31667       & 145.9         \\\\\n",
       "\t Eagle          & Vision         & Large          & 17.5           & 19.3           & 23.60000       & 165.2         \\\\\n",
       "\t Ford             & Crown\\_Victoria & Large            & 20.1             & 20.9             & 23.26250         & 186.1           \\\\\n",
       "\t Lincoln          & Town\\_Car       & Large            & 34.4             & 36.1             & 24.68889         & 222.2           \\\\\n",
       "\t Oldsmobile     & Eighty-Eight   & Large          & 19.5           & 20.7           & 24.29000       & 242.9         \\\\\n",
       "\t Pontiac        & Bonneville     & Large          & 19.4           & 24.4           & 24.30000       & 267.3         \\\\\n",
       "\t Acura          & Legend         & Midsize        & 29.2           & 33.9           & 33.90000       &  33.9         \\\\\n",
       "\t Audi           & 100            & Midsize        & 30.8           & 37.7           & 35.80000       &  71.6         \\\\\n",
       "\t BMW            & 535i           & Midsize        & 23.7           & 30.0           & 33.86667       & 101.6         \\\\\n",
       "\t ... & ... & ... & ... & ... & ... & ...\\\\\n",
       "\t Pontiac    & LeMans     & Small      &  8.2       &  9.0       & 10.37333   & 155.6     \\\\\n",
       "\t Saturn     & SL         & Small      &  9.2       & 11.1       & 10.41875   & 166.7     \\\\\n",
       "\t Subaru     & Justy      & Small      &  7.3       &  8.4       & 10.30000   & 175.1     \\\\\n",
       "\t Subaru     & Loyale     & Small      & 10.5       & 10.9       & 10.33333   & 186.0     \\\\\n",
       "\t Suzuki     & Swift      & Small      &  7.3       &  8.6       & 10.24211   & 194.6     \\\\\n",
       "\t Toyota     & Tercel     & Small      &  7.8       &  9.8       & 10.22000   & 204.4     \\\\\n",
       "\t Volkswagen & Fox        & Small      &  8.7       &  9.1       & 10.16667   & 213.5     \\\\\n",
       "\t Chevrolet  & Camaro     & Sporty     & 13.4       & 15.1       & 15.10000   &  15.1     \\\\\n",
       "\t Chevrolet  & Corvette   & Sporty     & 34.6       & 38.0       & 26.55000   &  53.1     \\\\\n",
       "\t Dodge      & Stealth    & Sporty     & 18.5       & 25.8       & 26.30000   &  78.9     \\\\\n",
       "\t Ford       & Mustang    & Sporty     & 10.8       & 15.9       & 23.70000   &  94.8     \\\\\n",
       "\t Ford       & Probe      & Sporty     & 12.8       & 14.0       & 21.76000   & 108.8     \\\\\n",
       "\t Geo        & Storm      & Sporty     & 11.5       & 12.5       & 20.21667   & 121.3     \\\\\n",
       "\t Honda      & Prelude    & Sporty     & 17.0       & 19.8       & 20.15714   & 141.1     \\\\\n",
       "\t Hyundai    & Scoupe     & Sporty     &  9.1       & 10.0       & 18.88750   & 151.1     \\\\\n",
       "\t Mazda      & RX-7       & Sporty     & 32.5       & 32.5       & 20.40000   & 183.6     \\\\\n",
       "\t Mercury    & Capri      & Sporty     & 13.3       & 14.1       & 19.77000   & 197.7     \\\\\n",
       "\t Plymouth   & Laser      & Sporty     & 11.4       & 14.4       & 19.28182   & 212.1     \\\\\n",
       "\t Pontiac    & Firebird   & Sporty     & 14.0       & 17.7       & 19.15000   & 229.8     \\\\\n",
       "\t Toyota     & Celica     & Sporty     & 14.2       & 18.4       & 19.09231   & 248.2     \\\\\n",
       "\t Volkswagen & Corrado    & Sporty     & 22.9       & 23.3       & 19.39286   & 271.5     \\\\\n",
       "\t Chevrolet    & Lumina\\_APV & Van          & 14.7         & 16.3         & 16.30000     &  16.3       \\\\\n",
       "\t Chevrolet  & Astro      & Van        & 14.7       & 16.6       & 16.45000   &  32.9     \\\\\n",
       "\t Dodge      & Caravan    & Van        & 13.6       & 19.0       & 17.30000   &  51.9     \\\\\n",
       "\t Ford       & Aerostar   & Van        & 14.5       & 19.9       & 17.95000   &  71.8     \\\\\n",
       "\t Mazda      & MPV        & Van        & 16.6       & 19.1       & 18.18000   &  90.9     \\\\\n",
       "\t Nissan     & Quest      & Van        & 16.7       & 19.1       & 18.33333   & 110.0     \\\\\n",
       "\t Oldsmobile & Silhouette & Van        & 19.5       & 19.5       & 18.50000   & 129.5     \\\\\n",
       "\t Toyota     & Previa     & Van        & 18.9       & 22.7       & 19.02500   & 152.2     \\\\\n",
       "\t Volkswagen & Eurovan    & Van        & 16.6       & 19.7       & 19.10000   & 171.9     \\\\\n",
       "\\end{tabular}\n"
      ],
      "text/plain": [
       "    Manufacturer  Model          Type    Min.Price Price cmean    csum \n",
       "1   Audi          90             Compact 25.9      29.1  29.10000  29.1\n",
       "2   Chevrolet     Cavalier       Compact  8.5      13.4  21.25000  42.5\n",
       "3   Chevrolet     Corsica        Compact 11.4      11.4  17.96667  53.9\n",
       "4   Chrysler      LeBaron        Compact 14.5      15.8  17.42500  69.7\n",
       "5   Dodge         Spirit         Compact 11.9      13.3  16.60000  83.0\n",
       "6   Ford          Tempo          Compact 10.4      11.3  15.71667  94.3\n",
       "7   Honda         Accord         Compact 13.8      17.5  15.97143 111.8\n",
       "8   Mazda         626            Compact 14.3      16.5  16.03750 128.3\n",
       "9   Mercedes-Benz 190E           Compact 29.0      31.9  17.80000 160.2\n",
       "10  Nissan        Altima         Compact 13.0      15.7  17.59000 175.9\n",
       "11  Oldsmobile    Achieva        Compact 13.0      13.5  17.21818 189.4\n",
       "12  Pontiac       Sunbird        Compact  9.4      11.1  16.70833 200.5\n",
       "13  Saab          900            Compact 20.3      28.7  17.63077 229.2\n",
       "14  Subaru        Legacy         Compact 16.3      19.5  17.76429 248.7\n",
       "15  Volkswagen    Passat         Compact 17.6      20.0  17.91333 268.7\n",
       "16  Volvo         240            Compact 21.8      22.7  18.21250 291.4\n",
       "17  Buick         LeSabre        Large   19.9      20.8  20.80000  20.8\n",
       "18  Buick         Roadmaster     Large   22.6      23.7  22.25000  44.5\n",
       "19  Cadillac      DeVille        Large   33.0      34.7  26.40000  79.2\n",
       "20  Chevrolet     Caprice        Large   18.0      18.8  24.50000  98.0\n",
       "21  Chrylser      Concorde       Large   18.4      18.4  23.28000 116.4\n",
       "22  Chrysler      Imperial       Large   29.5      29.5  24.31667 145.9\n",
       "23  Eagle         Vision         Large   17.5      19.3  23.60000 165.2\n",
       "24  Ford          Crown_Victoria Large   20.1      20.9  23.26250 186.1\n",
       "25  Lincoln       Town_Car       Large   34.4      36.1  24.68889 222.2\n",
       "26  Oldsmobile    Eighty-Eight   Large   19.5      20.7  24.29000 242.9\n",
       "27  Pontiac       Bonneville     Large   19.4      24.4  24.30000 267.3\n",
       "28  Acura         Legend         Midsize 29.2      33.9  33.90000  33.9\n",
       "29  Audi          100            Midsize 30.8      37.7  35.80000  71.6\n",
       "30  BMW           535i           Midsize 23.7      30.0  33.86667 101.6\n",
       "... ...           ...            ...     ...       ...   ...      ...  \n",
       "64  Pontiac       LeMans         Small    8.2       9.0  10.37333 155.6\n",
       "65  Saturn        SL             Small    9.2      11.1  10.41875 166.7\n",
       "66  Subaru        Justy          Small    7.3       8.4  10.30000 175.1\n",
       "67  Subaru        Loyale         Small   10.5      10.9  10.33333 186.0\n",
       "68  Suzuki        Swift          Small    7.3       8.6  10.24211 194.6\n",
       "69  Toyota        Tercel         Small    7.8       9.8  10.22000 204.4\n",
       "70  Volkswagen    Fox            Small    8.7       9.1  10.16667 213.5\n",
       "71  Chevrolet     Camaro         Sporty  13.4      15.1  15.10000  15.1\n",
       "72  Chevrolet     Corvette       Sporty  34.6      38.0  26.55000  53.1\n",
       "73  Dodge         Stealth        Sporty  18.5      25.8  26.30000  78.9\n",
       "74  Ford          Mustang        Sporty  10.8      15.9  23.70000  94.8\n",
       "75  Ford          Probe          Sporty  12.8      14.0  21.76000 108.8\n",
       "76  Geo           Storm          Sporty  11.5      12.5  20.21667 121.3\n",
       "77  Honda         Prelude        Sporty  17.0      19.8  20.15714 141.1\n",
       "78  Hyundai       Scoupe         Sporty   9.1      10.0  18.88750 151.1\n",
       "79  Mazda         RX-7           Sporty  32.5      32.5  20.40000 183.6\n",
       "80  Mercury       Capri          Sporty  13.3      14.1  19.77000 197.7\n",
       "81  Plymouth      Laser          Sporty  11.4      14.4  19.28182 212.1\n",
       "82  Pontiac       Firebird       Sporty  14.0      17.7  19.15000 229.8\n",
       "83  Toyota        Celica         Sporty  14.2      18.4  19.09231 248.2\n",
       "84  Volkswagen    Corrado        Sporty  22.9      23.3  19.39286 271.5\n",
       "85  Chevrolet     Lumina_APV     Van     14.7      16.3  16.30000  16.3\n",
       "86  Chevrolet     Astro          Van     14.7      16.6  16.45000  32.9\n",
       "87  Dodge         Caravan        Van     13.6      19.0  17.30000  51.9\n",
       "88  Ford          Aerostar       Van     14.5      19.9  17.95000  71.8\n",
       "89  Mazda         MPV            Van     16.6      19.1  18.18000  90.9\n",
       "90  Nissan        Quest          Van     16.7      19.1  18.33333 110.0\n",
       "91  Oldsmobile    Silhouette     Van     19.5      19.5  18.50000 129.5\n",
       "92  Toyota        Previa         Van     18.9      22.7  19.02500 152.2\n",
       "93  Volkswagen    Eurovan        Van     16.6      19.7  19.10000 171.9"
      ]
     },
     "metadata": {},
     "output_type": "display_data"
    }
   ],
   "source": [
    "Cars93 %>%\n",
    " group_by(Type) %>%\n",
    " arrange(Type) %>%\n",
    " select(Manufacturer:Price) %>%\n",
    " mutate(cmean = cummean(Price), csum = cumsum(Price))"
   ]
  },
  {
   "cell_type": "code",
   "execution_count": 20,
   "metadata": {
    "collapsed": false
   },
   "outputs": [
    {
     "name": "stderr",
     "output_type": "stream",
     "text": [
      "Installing package into 'C:/Users/admin/Documents/R/win-library/3.3'\n",
      "(as 'lib' is unspecified)\n",
      "also installing the dependency 'chron'\n",
      "\n"
     ]
    },
    {
     "name": "stdout",
     "output_type": "stream",
     "text": [
      "package 'chron' successfully unpacked and MD5 sums checked\n",
      "package 'data.table' successfully unpacked and MD5 sums checked\n",
      "\n",
      "The downloaded binary packages are in\n",
      "\tC:\\Users\\admin\\AppData\\Local\\Temp\\RtmpO0Tqzw\\downloaded_packages\n"
     ]
    }
   ],
   "source": [
    "install.packages('data.table')"
   ]
  },
  {
   "cell_type": "code",
   "execution_count": 21,
   "metadata": {
    "collapsed": true
   },
   "outputs": [
    {
     "name": "stderr",
     "output_type": "stream",
     "text": [
      "Loading required package: data.table\n",
      "------------------------------------------------------------------------------\n",
      "data.table + dplyr code now lives in dtplyr.\n",
      "Please library(dtplyr)!\n",
      "------------------------------------------------------------------------------\n",
      "\n",
      "Attaching package: 'data.table'\n",
      "\n",
      "The following objects are masked from 'package:dplyr':\n",
      "\n",
      "    between, last\n",
      "\n"
     ]
    }
   ],
   "source": [
    "\n",
    "require(data.table)\n",
    "Cars93 <- data.table(Cars93)\n"
   ]
  },
  {
   "cell_type": "code",
   "execution_count": 23,
   "metadata": {
    "collapsed": false
   },
   "outputs": [
    {
     "name": "stderr",
     "output_type": "stream",
     "text": [
      "Installing package into 'C:/Users/admin/Documents/R/win-library/3.3'\n",
      "(as 'lib' is unspecified)\n",
      "also installing the dependencies 'colorspace', 'RColorBrewer', 'dichromat', 'munsell', 'labeling', 'gtable', 'plyr', 'reshape2', 'scales', 'ggplot2'\n",
      "\n"
     ]
    },
    {
     "name": "stdout",
     "output_type": "stream",
     "text": [
      "package 'colorspace' successfully unpacked and MD5 sums checked\n",
      "package 'RColorBrewer' successfully unpacked and MD5 sums checked\n",
      "package 'dichromat' successfully unpacked and MD5 sums checked\n",
      "package 'munsell' successfully unpacked and MD5 sums checked\n",
      "package 'labeling' successfully unpacked and MD5 sums checked\n",
      "package 'gtable' successfully unpacked and MD5 sums checked\n",
      "package 'plyr' successfully unpacked and MD5 sums checked\n",
      "package 'reshape2' successfully unpacked and MD5 sums checked\n",
      "package 'scales' successfully unpacked and MD5 sums checked\n",
      "package 'ggplot2' successfully unpacked and MD5 sums checked\n",
      "package 'microbenchmark' successfully unpacked and MD5 sums checked\n",
      "\n",
      "The downloaded binary packages are in\n",
      "\tC:\\Users\\admin\\AppData\\Local\\Temp\\RtmpO0Tqzw\\downloaded_packages\n"
     ]
    }
   ],
   "source": [
    "install.packages('microbenchmark')"
   ]
  },
  {
   "cell_type": "code",
   "execution_count": 24,
   "metadata": {
    "collapsed": false
   },
   "outputs": [
    {
     "name": "stderr",
     "output_type": "stream",
     "text": [
      "Loading required package: microbenchmark\n"
     ]
    },
    {
     "data": {
      "text/html": [
       "<table>\n",
       "<thead><tr><th scope=col>x</th><th scope=col>y</th></tr></thead>\n",
       "<tbody>\n",
       "\t<tr><td>K</td><td>a</td></tr>\n",
       "\t<tr><td>Q</td><td>d</td></tr>\n",
       "\t<tr><td>G</td><td>c</td></tr>\n",
       "</tbody>\n",
       "</table>\n"
      ],
      "text/latex": [
       "\\begin{tabular}{r|ll}\n",
       " x & y\\\\\n",
       "\\hline\n",
       "\t K & a\\\\\n",
       "\t Q & d\\\\\n",
       "\t G & c\\\\\n",
       "\\end{tabular}\n"
      ],
      "text/plain": [
       "  x y\n",
       "1 K a\n",
       "2 Q d\n",
       "3 G c"
      ]
     },
     "metadata": {},
     "output_type": "display_data"
    },
    {
     "data": {
      "text/html": [
       "<table>\n",
       "<thead><tr><th scope=col>expr</th><th scope=col>time</th></tr></thead>\n",
       "<tbody>\n",
       "\t<tr><td>data.table</td><td>  1950543 </td></tr>\n",
       "\t<tr><td>data.table</td><td>  1006286 </td></tr>\n",
       "\t<tr><td>baseR     </td><td> 55832576 </td></tr>\n",
       "\t<tr><td>data.table</td><td>  1303486 </td></tr>\n",
       "\t<tr><td>baseR     </td><td> 58823766 </td></tr>\n",
       "\t<tr><td>baseR     </td><td> 54660286 </td></tr>\n",
       "\t<tr><td>baseR     </td><td> 58205715 </td></tr>\n",
       "\t<tr><td>baseR     </td><td> 53069864 </td></tr>\n",
       "\t<tr><td>data.table</td><td>  1062067 </td></tr>\n",
       "\t<tr><td>baseR     </td><td> 57616669 </td></tr>\n",
       "\t<tr><td>dplyr     </td><td>119652071 </td></tr>\n",
       "\t<tr><td>dplyr     </td><td>105449384 </td></tr>\n",
       "\t<tr><td>data.table</td><td>  1177644 </td></tr>\n",
       "\t<tr><td>baseR     </td><td> 53854365 </td></tr>\n",
       "\t<tr><td>data.table</td><td>  1207543 </td></tr>\n",
       "\t<tr><td>baseR     </td><td>102857584 </td></tr>\n",
       "\t<tr><td>data.table</td><td>  1069206 </td></tr>\n",
       "\t<tr><td>data.table</td><td>   936671 </td></tr>\n",
       "\t<tr><td>dplyr     </td><td> 59487781 </td></tr>\n",
       "\t<tr><td>baseR     </td><td> 57939306 </td></tr>\n",
       "\t<tr><td>data.table</td><td>  1091519 </td></tr>\n",
       "\t<tr><td>dplyr     </td><td> 61305343 </td></tr>\n",
       "\t<tr><td>data.table</td><td>  1316428 </td></tr>\n",
       "\t<tr><td>dplyr     </td><td> 62308058 </td></tr>\n",
       "\t<tr><td>baseR     </td><td>110325966 </td></tr>\n",
       "\t<tr><td>data.table</td><td>  1057158 </td></tr>\n",
       "\t<tr><td>dplyr     </td><td>108256720 </td></tr>\n",
       "\t<tr><td>data.table</td><td>  1256631 </td></tr>\n",
       "\t<tr><td>dplyr     </td><td> 55326532 </td></tr>\n",
       "\t<tr><td>data.table</td><td>  1355251 </td></tr>\n",
       "\t<tr><td>...</td><td>...</td></tr>\n",
       "\t<tr><td>data.table</td><td>  1024136 </td></tr>\n",
       "\t<tr><td>data.table</td><td>   948720 </td></tr>\n",
       "\t<tr><td>baseR     </td><td> 53621424 </td></tr>\n",
       "\t<tr><td>data.table</td><td>  1086610 </td></tr>\n",
       "\t<tr><td>data.table</td><td>  1006286 </td></tr>\n",
       "\t<tr><td>baseR     </td><td> 57465838 </td></tr>\n",
       "\t<tr><td>baseR     </td><td> 51934167 </td></tr>\n",
       "\t<tr><td>baseR     </td><td>100115846 </td></tr>\n",
       "\t<tr><td>dplyr     </td><td> 57611761 </td></tr>\n",
       "\t<tr><td>data.table</td><td>  1193709 </td></tr>\n",
       "\t<tr><td>baseR     </td><td> 53329133 </td></tr>\n",
       "\t<tr><td>dplyr     </td><td> 56833953 </td></tr>\n",
       "\t<tr><td>dplyr     </td><td> 56365394 </td></tr>\n",
       "\t<tr><td>baseR     </td><td> 58661332 </td></tr>\n",
       "\t<tr><td>baseR     </td><td> 53363940 </td></tr>\n",
       "\t<tr><td>baseR     </td><td> 57207907 </td></tr>\n",
       "\t<tr><td>baseR     </td><td> 54375134 </td></tr>\n",
       "\t<tr><td>baseR     </td><td> 58050421 </td></tr>\n",
       "\t<tr><td>data.table</td><td>  1087503 </td></tr>\n",
       "\t<tr><td>baseR     </td><td> 59920194 </td></tr>\n",
       "\t<tr><td>baseR     </td><td> 53611161 </td></tr>\n",
       "\t<tr><td>baseR     </td><td> 58632773 </td></tr>\n",
       "\t<tr><td>baseR     </td><td> 54360409 </td></tr>\n",
       "\t<tr><td>baseR     </td><td> 58321293 </td></tr>\n",
       "\t<tr><td>dplyr     </td><td>104288250 </td></tr>\n",
       "\t<tr><td>data.table</td><td>  1274034 </td></tr>\n",
       "\t<tr><td>dplyr     </td><td> 55624179 </td></tr>\n",
       "\t<tr><td>dplyr     </td><td> 60385183 </td></tr>\n",
       "\t<tr><td>dplyr     </td><td> 63381728 </td></tr>\n",
       "\t<tr><td>baseR     </td><td> 57344905 </td></tr>\n",
       "</tbody>\n",
       "</table>\n"
      ],
      "text/latex": [
       "\\begin{tabular}{r|ll}\n",
       " expr & time\\\\\n",
       "\\hline\n",
       "\t data.table &   1950543 \\\\\n",
       "\t data.table &   1006286 \\\\\n",
       "\t baseR      &  55832576 \\\\\n",
       "\t data.table &   1303486 \\\\\n",
       "\t baseR      &  58823766 \\\\\n",
       "\t baseR      &  54660286 \\\\\n",
       "\t baseR      &  58205715 \\\\\n",
       "\t baseR      &  53069864 \\\\\n",
       "\t data.table &   1062067 \\\\\n",
       "\t baseR      &  57616669 \\\\\n",
       "\t dplyr      & 119652071 \\\\\n",
       "\t dplyr      & 105449384 \\\\\n",
       "\t data.table &   1177644 \\\\\n",
       "\t baseR      &  53854365 \\\\\n",
       "\t data.table &   1207543 \\\\\n",
       "\t baseR      & 102857584 \\\\\n",
       "\t data.table &   1069206 \\\\\n",
       "\t data.table &    936671 \\\\\n",
       "\t dplyr      &  59487781 \\\\\n",
       "\t baseR      &  57939306 \\\\\n",
       "\t data.table &   1091519 \\\\\n",
       "\t dplyr      &  61305343 \\\\\n",
       "\t data.table &   1316428 \\\\\n",
       "\t dplyr      &  62308058 \\\\\n",
       "\t baseR      & 110325966 \\\\\n",
       "\t data.table &   1057158 \\\\\n",
       "\t dplyr      & 108256720 \\\\\n",
       "\t data.table &   1256631 \\\\\n",
       "\t dplyr      &  55326532 \\\\\n",
       "\t data.table &   1355251 \\\\\n",
       "\t ... & ...\\\\\n",
       "\t data.table &   1024136 \\\\\n",
       "\t data.table &    948720 \\\\\n",
       "\t baseR      &  53621424 \\\\\n",
       "\t data.table &   1086610 \\\\\n",
       "\t data.table &   1006286 \\\\\n",
       "\t baseR      &  57465838 \\\\\n",
       "\t baseR      &  51934167 \\\\\n",
       "\t baseR      & 100115846 \\\\\n",
       "\t dplyr      &  57611761 \\\\\n",
       "\t data.table &   1193709 \\\\\n",
       "\t baseR      &  53329133 \\\\\n",
       "\t dplyr      &  56833953 \\\\\n",
       "\t dplyr      &  56365394 \\\\\n",
       "\t baseR      &  58661332 \\\\\n",
       "\t baseR      &  53363940 \\\\\n",
       "\t baseR      &  57207907 \\\\\n",
       "\t baseR      &  54375134 \\\\\n",
       "\t baseR      &  58050421 \\\\\n",
       "\t data.table &   1087503 \\\\\n",
       "\t baseR      &  59920194 \\\\\n",
       "\t baseR      &  53611161 \\\\\n",
       "\t baseR      &  58632773 \\\\\n",
       "\t baseR      &  54360409 \\\\\n",
       "\t baseR      &  58321293 \\\\\n",
       "\t dplyr      & 104288250 \\\\\n",
       "\t data.table &   1274034 \\\\\n",
       "\t dplyr      &  55624179 \\\\\n",
       "\t dplyr      &  60385183 \\\\\n",
       "\t dplyr      &  63381728 \\\\\n",
       "\t baseR      &  57344905 \\\\\n",
       "\\end{tabular}\n"
      ],
      "text/plain": [
       "    expr       time     \n",
       "1   data.table   1950543\n",
       "2   data.table   1006286\n",
       "3   baseR       55832576\n",
       "4   data.table   1303486\n",
       "5   baseR       58823766\n",
       "6   baseR       54660286\n",
       "7   baseR       58205715\n",
       "8   baseR       53069864\n",
       "9   data.table   1062067\n",
       "10  baseR       57616669\n",
       "11  dplyr      119652071\n",
       "12  dplyr      105449384\n",
       "13  data.table   1177644\n",
       "14  baseR       53854365\n",
       "15  data.table   1207543\n",
       "16  baseR      102857584\n",
       "17  data.table   1069206\n",
       "18  data.table    936671\n",
       "19  dplyr       59487781\n",
       "20  baseR       57939306\n",
       "21  data.table   1091519\n",
       "22  dplyr       61305343\n",
       "23  data.table   1316428\n",
       "24  dplyr       62308058\n",
       "25  baseR      110325966\n",
       "26  data.table   1057158\n",
       "27  dplyr      108256720\n",
       "28  data.table   1256631\n",
       "29  dplyr       55326532\n",
       "30  data.table   1355251\n",
       "... ...        ...      \n",
       "271 data.table   1024136\n",
       "272 data.table    948720\n",
       "273 baseR       53621424\n",
       "274 data.table   1086610\n",
       "275 data.table   1006286\n",
       "276 baseR       57465838\n",
       "277 baseR       51934167\n",
       "278 baseR      100115846\n",
       "279 dplyr       57611761\n",
       "280 data.table   1193709\n",
       "281 baseR       53329133\n",
       "282 dplyr       56833953\n",
       "283 dplyr       56365394\n",
       "284 baseR       58661332\n",
       "285 baseR       53363940\n",
       "286 baseR       57207907\n",
       "287 baseR       54375134\n",
       "288 baseR       58050421\n",
       "289 data.table   1087503\n",
       "290 baseR       59920194\n",
       "291 baseR       53611161\n",
       "292 baseR       58632773\n",
       "293 baseR       54360409\n",
       "294 baseR       58321293\n",
       "295 dplyr      104288250\n",
       "296 data.table   1274034\n",
       "297 dplyr       55624179\n",
       "298 dplyr       60385183\n",
       "299 dplyr       63381728\n",
       "300 baseR       57344905"
      ]
     },
     "metadata": {},
     "output_type": "display_data"
    }
   ],
   "source": [
    "require(microbenchmark)\n",
    "N <- 1000000\n",
    "dat<- data.table(\n",
    "  x=sample(LETTERS[1:20], N, replace=TRUE),\n",
    "  y=sample(letters[1:5], N, replace=TRUE))\n",
    "head(dat, 3)\n",
    "\n",
    "setkey(dat, x,y)\n",
    "\n",
    "microbenchmark(\n",
    "  data.table = dat[list(c(\"B\", \"D\"), c(\"b\", \"d\"))],\n",
    "  dplyr = dat %>% slice(x %in% c(\"B\", \"D\") & y %in% c(\"b\", \"d\")),\n",
    "  baseR = dat[x %in% c(\"B\", \"D\") & y %in% c(\"b\", \"d\")]\n",
    ")"
   ]
  },
  {
   "cell_type": "code",
   "execution_count": null,
   "metadata": {
    "collapsed": true
   },
   "outputs": [],
   "source": []
  },
  {
   "cell_type": "code",
   "execution_count": null,
   "metadata": {
    "collapsed": true
   },
   "outputs": [],
   "source": []
  },
  {
   "cell_type": "code",
   "execution_count": null,
   "metadata": {
    "collapsed": true
   },
   "outputs": [],
   "source": []
  }
 ],
 "metadata": {
  "kernelspec": {
   "display_name": "R",
   "language": "R",
   "name": "ir"
  },
  "language_info": {
   "codemirror_mode": "r",
   "file_extension": ".r",
   "mimetype": "text/x-r-source",
   "name": "R",
   "pygments_lexer": "r",
   "version": "3.3.1"
  }
 },
 "nbformat": 4,
 "nbformat_minor": 1
}
