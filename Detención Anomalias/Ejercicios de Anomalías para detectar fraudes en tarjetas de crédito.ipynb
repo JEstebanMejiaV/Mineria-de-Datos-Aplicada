{
 "cells": [
  {
   "cell_type": "markdown",
   "metadata": {},
   "source": [
    "### Ejercicios de Anomalías para detectar fraudes en tarjetas de crédito"
   ]
  },
  {
   "cell_type": "markdown",
   "metadata": {},
   "source": [
    "Basado en Shirin Glander Pag personal :https://shiring.github.io/about"
   ]
  },
  {
   "cell_type": "code",
   "execution_count": 1,
   "metadata": {
    "collapsed": true
   },
   "outputs": [],
   "source": [
    "options(repr.plot.width=4, repr.plot.height=3)"
   ]
  },
  {
   "cell_type": "markdown",
   "metadata": {},
   "source": [
    "### Bajar de Kaggle\n"
   ]
  },
  {
   "cell_type": "code",
   "execution_count": 2,
   "metadata": {
    "collapsed": true
   },
   "outputs": [],
   "source": [
    "unzip(\"creditcard.csv.zip\")"
   ]
  },
  {
   "cell_type": "code",
   "execution_count": 3,
   "metadata": {
    "collapsed": true
   },
   "outputs": [],
   "source": [
    "creditcard <- read.csv(\"creditcard.csv\")"
   ]
  },
  {
   "cell_type": "code",
   "execution_count": 4,
   "metadata": {
    "collapsed": false
   },
   "outputs": [
    {
     "name": "stdout",
     "output_type": "stream",
     "text": [
      "'data.frame':\t284807 obs. of  31 variables:\n",
      " $ Time  : num  0 0 1 1 2 2 4 7 7 9 ...\n",
      " $ V1    : num  -1.36 1.192 -1.358 -0.966 -1.158 ...\n",
      " $ V2    : num  -0.0728 0.2662 -1.3402 -0.1852 0.8777 ...\n",
      " $ V3    : num  2.536 0.166 1.773 1.793 1.549 ...\n",
      " $ V4    : num  1.378 0.448 0.38 -0.863 0.403 ...\n",
      " $ V5    : num  -0.3383 0.06 -0.5032 -0.0103 -0.4072 ...\n",
      " $ V6    : num  0.4624 -0.0824 1.8005 1.2472 0.0959 ...\n",
      " $ V7    : num  0.2396 -0.0788 0.7915 0.2376 0.5929 ...\n",
      " $ V8    : num  0.0987 0.0851 0.2477 0.3774 -0.2705 ...\n",
      " $ V9    : num  0.364 -0.255 -1.515 -1.387 0.818 ...\n",
      " $ V10   : num  0.0908 -0.167 0.2076 -0.055 0.7531 ...\n",
      " $ V11   : num  -0.552 1.613 0.625 -0.226 -0.823 ...\n",
      " $ V12   : num  -0.6178 1.0652 0.0661 0.1782 0.5382 ...\n",
      " $ V13   : num  -0.991 0.489 0.717 0.508 1.346 ...\n",
      " $ V14   : num  -0.311 -0.144 -0.166 -0.288 -1.12 ...\n",
      " $ V15   : num  1.468 0.636 2.346 -0.631 0.175 ...\n",
      " $ V16   : num  -0.47 0.464 -2.89 -1.06 -0.451 ...\n",
      " $ V17   : num  0.208 -0.115 1.11 -0.684 -0.237 ...\n",
      " $ V18   : num  0.0258 -0.1834 -0.1214 1.9658 -0.0382 ...\n",
      " $ V19   : num  0.404 -0.146 -2.262 -1.233 0.803 ...\n",
      " $ V20   : num  0.2514 -0.0691 0.525 -0.208 0.4085 ...\n",
      " $ V21   : num  -0.01831 -0.22578 0.248 -0.1083 -0.00943 ...\n",
      " $ V22   : num  0.27784 -0.63867 0.77168 0.00527 0.79828 ...\n",
      " $ V23   : num  -0.11 0.101 0.909 -0.19 -0.137 ...\n",
      " $ V24   : num  0.0669 -0.3398 -0.6893 -1.1756 0.1413 ...\n",
      " $ V25   : num  0.129 0.167 -0.328 0.647 -0.206 ...\n",
      " $ V26   : num  -0.189 0.126 -0.139 -0.222 0.502 ...\n",
      " $ V27   : num  0.13356 -0.00898 -0.05535 0.06272 0.21942 ...\n",
      " $ V28   : num  -0.0211 0.0147 -0.0598 0.0615 0.2152 ...\n",
      " $ Amount: num  149.62 2.69 378.66 123.5 69.99 ...\n",
      " $ Class : int  0 0 0 0 0 0 0 0 0 0 ...\n"
     ]
    }
   ],
   "source": [
    "str(creditcard)"
   ]
  },
  {
   "cell_type": "markdown",
   "metadata": {},
   "source": [
    "### Entendimieto y Pre-Procesamiento"
   ]
  },
  {
   "cell_type": "code",
   "execution_count": 5,
   "metadata": {
    "collapsed": false
   },
   "outputs": [
    {
     "name": "stderr",
     "output_type": "stream",
     "text": [
      "\n",
      "Attaching package: 'dplyr'\n",
      "\n",
      "The following objects are masked from 'package:stats':\n",
      "\n",
      "    filter, lag\n",
      "\n",
      "The following objects are masked from 'package:base':\n",
      "\n",
      "    intersect, setdiff, setequal, union\n",
      "\n",
      "Warning message:\n",
      "\"package 'ggplot2' was built under R version 3.3.3\""
     ]
    }
   ],
   "source": [
    "library(dplyr)\n",
    "library(ggplot2)"
   ]
  },
  {
   "cell_type": "code",
   "execution_count": 6,
   "metadata": {
    "collapsed": false
   },
   "outputs": [
    {
     "data": {},
     "metadata": {},
     "output_type": "display_data"
    },
    {
     "data": {
      "image/png": "[encoded data removed]",
      "text/plain": [
       "plot without title"
      ]
     },
     "metadata": {},
     "output_type": "display_data"
    }
   ],
   "source": [
    "creditcard %>%\n",
    "  ggplot(aes(x = Class)) +\n",
    "    geom_bar(color = \"navy\", fill = \"deepskyblue4\")"
   ]
  },
  {
   "cell_type": "code",
   "execution_count": 7,
   "metadata": {
    "collapsed": false
   },
   "outputs": [
    {
     "data": {
      "text/plain": [
       "   Min. 1st Qu.  Median    Mean 3rd Qu.    Max. \n",
       "      0   54200   84690   94810  139300  172800 "
      ]
     },
     "metadata": {},
     "output_type": "display_data"
    }
   ],
   "source": [
    "summary(creditcard$Time)"
   ]
  },
  {
   "cell_type": "code",
   "execution_count": 8,
   "metadata": {
    "collapsed": false
   },
   "outputs": [],
   "source": [
    "# separate transactions by day\n",
    "creditcard$day <- ifelse(creditcard$Time > 3600 * 24, \"day2\", \"day1\")"
   ]
  },
  {
   "cell_type": "code",
   "execution_count": 9,
   "metadata": {
    "collapsed": true
   },
   "outputs": [],
   "source": [
    "# make transaction relative to day\n",
    "creditcard$Time_day <- ifelse(creditcard$day == \"day2\", creditcard$Time - 86400, creditcard$Time)"
   ]
  },
  {
   "cell_type": "code",
   "execution_count": 10,
   "metadata": {
    "collapsed": false
   },
   "outputs": [
    {
     "data": {
      "text/plain": [
       "   Min. 1st Qu.  Median    Mean 3rd Qu.    Max. \n",
       "      0   38430   54690   52950   70980   86400 "
      ]
     },
     "metadata": {},
     "output_type": "display_data"
    }
   ],
   "source": [
    "summary(creditcard[creditcard$day == \"day1\", ]$Time_day)"
   ]
  },
  {
   "cell_type": "code",
   "execution_count": 11,
   "metadata": {
    "collapsed": false
   },
   "outputs": [
    {
     "data": {
      "text/plain": [
       "   Min. 1st Qu.  Median    Mean 3rd Qu.    Max. \n",
       "      1   37840   53420   51710   68180   86390 "
      ]
     },
     "metadata": {},
     "output_type": "display_data"
    }
   ],
   "source": [
    "summary(creditcard[creditcard$day == \"day2\", ]$Time_day)\n"
   ]
  },
  {
   "cell_type": "code",
   "execution_count": 12,
   "metadata": {
    "collapsed": true
   },
   "outputs": [],
   "source": [
    "# bin transactions according to time of day\n",
    "creditcard$Time <- as.factor(ifelse(creditcard$Time_day <= 38138, \"gr1\", # mean 1st Qu.\n",
    "                          ifelse(creditcard$Time_day <= 52327, \"gr2\", # mean mean\n",
    "                                 ifelse(creditcard$Time_day <= 69580, \"gr3\", # mean 3rd Qu\n",
    "                                        \"gr4\"))))"
   ]
  },
  {
   "cell_type": "code",
   "execution_count": 13,
   "metadata": {
    "collapsed": false
   },
   "outputs": [
    {
     "data": {},
     "metadata": {},
     "output_type": "display_data"
    },
    {
     "data": {
      "image/png": "[encoded data removed]",
      "text/plain": [
       "plot without title"
      ]
     },
     "metadata": {},
     "output_type": "display_data"
    }
   ],
   "source": [
    "creditcard %>%\n",
    "  ggplot(aes(x = day)) +\n",
    "    geom_bar(color = \"navy\", fill = \"deepskyblue4\") "
   ]
  },
  {
   "cell_type": "code",
   "execution_count": 14,
   "metadata": {
    "collapsed": false
   },
   "outputs": [],
   "source": [
    "creditcard <- select(creditcard, -Time_day, -day)\n"
   ]
  },
  {
   "cell_type": "code",
   "execution_count": 15,
   "metadata": {
    "collapsed": false
   },
   "outputs": [
    {
     "data": {},
     "metadata": {},
     "output_type": "display_data"
    },
    {
     "data": {
      "image/png": "[encoded data removed]",
      "text/plain": [
       "plot without title"
      ]
     },
     "metadata": {},
     "output_type": "display_data"
    }
   ],
   "source": [
    "# convert class variable to factor\n",
    "creditcard$Class <- factor(creditcard$Class)\n",
    "creditcard %>%\n",
    "  ggplot(aes(x = Time)) +\n",
    "    geom_bar(color = \"navy\", fill = \"deepskyblue4\") +\n",
    "    facet_wrap( ~ Class, scales = \"free\", ncol = 2)"
   ]
  },
  {
   "cell_type": "code",
   "execution_count": 16,
   "metadata": {
    "collapsed": false
   },
   "outputs": [
    {
     "data": {
      "text/plain": [
       "    Min.  1st Qu.   Median     Mean  3rd Qu.     Max. \n",
       "    0.00     5.65    22.00    88.29    77.05 25690.00 "
      ]
     },
     "metadata": {},
     "output_type": "display_data"
    }
   ],
   "source": [
    "summary(creditcard[creditcard$Class == \"0\", ]$Amount)"
   ]
  },
  {
   "cell_type": "code",
   "execution_count": 17,
   "metadata": {
    "collapsed": false
   },
   "outputs": [
    {
     "data": {
      "text/plain": [
       "   Min. 1st Qu.  Median    Mean 3rd Qu.    Max. \n",
       "   0.00    1.00    9.25  122.20  105.90 2126.00 "
      ]
     },
     "metadata": {},
     "output_type": "display_data"
    }
   ],
   "source": [
    "summary(creditcard[creditcard$Class == \"1\", ]$Amount)"
   ]
  },
  {
   "cell_type": "code",
   "execution_count": 18,
   "metadata": {
    "collapsed": false
   },
   "outputs": [
    {
     "name": "stderr",
     "output_type": "stream",
     "text": [
      "`stat_bin()` using `bins = 30`. Pick better value with `binwidth`.\n"
     ]
    },
    {
     "data": {},
     "metadata": {},
     "output_type": "display_data"
    },
    {
     "data": {
      "image/png": "[encoded data removed]",
      "text/plain": [
       "plot without title"
      ]
     },
     "metadata": {},
     "output_type": "display_data"
    }
   ],
   "source": [
    "creditcard %>%\n",
    "  ggplot(aes(x = Amount)) +\n",
    "    geom_histogram(color = \"navy\", fill = \"deepskyblue4\") +\n",
    "    facet_wrap( ~ Class, scales = \"free\", ncol = 2)"
   ]
  },
  {
   "cell_type": "markdown",
   "metadata": {},
   "source": [
    "### Modelameinto"
   ]
  },
  {
   "cell_type": "code",
   "execution_count": 50,
   "metadata": {
    "collapsed": false
   },
   "outputs": [
    {
     "name": "stdout",
     "output_type": "stream",
     "text": [
      " Connection successful!\n",
      "\n",
      "R is connected to the H2O cluster: \n",
      "    H2O cluster uptime:         26 minutes 42 seconds \n",
      "    H2O cluster version:        3.10.4.4 \n",
      "    H2O cluster version age:    16 days  \n",
      "    H2O cluster name:           H2O_started_from_R_admin_wwf296 \n",
      "    H2O cluster total nodes:    1 \n",
      "    H2O cluster total memory:   2.47 GB \n",
      "    H2O cluster total cores:    4 \n",
      "    H2O cluster allowed cores:  4 \n",
      "    H2O cluster healthy:        TRUE \n",
      "    H2O Connection ip:          localhost \n",
      "    H2O Connection port:        54321 \n",
      "    H2O Connection proxy:       NA \n",
      "    H2O Internal Security:      FALSE \n",
      "    R Version:                  R version 3.3.1 (2016-06-21) \n",
      "\n"
     ]
    }
   ],
   "source": [
    "library(h2o)\n",
    "h2o.init(nthreads = 1)"
   ]
  },
  {
   "cell_type": "code",
   "execution_count": 20,
   "metadata": {
    "collapsed": false
   },
   "outputs": [
    {
     "name": "stdout",
     "output_type": "stream",
     "text": [
      "\r",
      "  |                                                                            \r",
      "  |                                                                      |   0%\r",
      "  |                                                                            \r",
      "  |======================================================================| 100%\n"
     ]
    }
   ],
   "source": [
    "# convert data to H2OFrame\n",
    "creditcard_hf <- as.h2o(creditcard)"
   ]
  },
  {
   "cell_type": "code",
   "execution_count": 21,
   "metadata": {
    "collapsed": true
   },
   "outputs": [],
   "source": [
    "splits <- h2o.splitFrame(creditcard_hf, \n",
    "                         ratios = c(0.4, 0.4), \n",
    "                         seed = 42)\n",
    "\n",
    "train_unsupervised  <- splits[[1]]\n",
    "train_supervised  <- splits[[2]]\n",
    "test <- splits[[3]]\n",
    "\n",
    "response <- \"Class\"\n",
    "features <- setdiff(colnames(train_unsupervised), response)"
   ]
  },
  {
   "cell_type": "markdown",
   "metadata": {},
   "source": [
    "### Autoencoders\n"
   ]
  },
  {
   "cell_type": "code",
   "execution_count": 22,
   "metadata": {
    "collapsed": false
   },
   "outputs": [
    {
     "name": "stdout",
     "output_type": "stream",
     "text": [
      "\r",
      "  |                                                                            \r",
      "  |                                                                      |   0%\r",
      "  |                                                                            \r",
      "  |=                                                                     |   1%\r",
      "  |                                                                            \r",
      "  |=                                                                     |   2%\r",
      "  |                                                                            \r",
      "  |==                                                                    |   3%\r",
      "  |                                                                            \r",
      "  |===                                                                   |   4%\r",
      "  |                                                                            \r",
      "  |====                                                                  |   5%\r",
      "  |                                                                            \r",
      "  |====                                                                  |   6%\r",
      "  |                                                                            \r",
      "  |=====                                                                 |   7%\r",
      "  |                                                                            \r",
      "  |======                                                                |   8%\r",
      "  |                                                                            \r",
      "  |======                                                                |   9%\r",
      "  |                                                                            \r",
      "  |=======                                                               |  10%\r",
      "  |                                                                            \r",
      "  |========                                                              |  11%\r",
      "  |                                                                            \r",
      "  |========                                                              |  12%\r",
      "  |                                                                            \r",
      "  |=========                                                             |  13%\r",
      "  |                                                                            \r",
      "  |==========                                                            |  14%\r",
      "  |                                                                            \r",
      "  |==========                                                            |  15%\r",
      "  |                                                                            \r",
      "  |===========                                                           |  16%\r",
      "  |                                                                            \r",
      "  |============                                                          |  17%\r",
      "  |                                                                            \r",
      "  |=============                                                         |  18%\r",
      "  |                                                                            \r",
      "  |=============                                                         |  19%\r",
      "  |                                                                            \r",
      "  |==============                                                        |  20%\r",
      "  |                                                                            \r",
      "  |===============                                                       |  21%\r",
      "  |                                                                            \r",
      "  |===============                                                       |  22%\r",
      "  |                                                                            \r",
      "  |================                                                      |  23%\r",
      "  |                                                                            \r",
      "  |=================                                                     |  24%\r",
      "  |                                                                            \r",
      "  |==================                                                    |  25%\r",
      "  |                                                                            \r",
      "  |==================                                                    |  26%\r",
      "  |                                                                            \r",
      "  |===================                                                   |  27%\r",
      "  |                                                                            \r",
      "  |======================================================================| 100%\n"
     ]
    }
   ],
   "source": [
    "model_nn <- h2o.deeplearning(x = features,\n",
    "                             training_frame = train_unsupervised,\n",
    "                             model_id = \"model_nn\",\n",
    "                             autoencoder = TRUE,\n",
    "                             reproducible = TRUE, #slow - turn off for real problems\n",
    "                             ignore_const_cols = FALSE,\n",
    "                             seed = 42,\n",
    "                             hidden = c(10, 2, 10), \n",
    "                             epochs = 100,\n",
    "                             activation = \"Tanh\")"
   ]
  },
  {
   "cell_type": "code",
   "execution_count": 23,
   "metadata": {
    "collapsed": false
   },
   "outputs": [
    {
     "data": {
      "text/html": [
       "'C:\\Users\\admin\\Desktop\\GitHub\\Mineria.de.Datos.Aplicada\\Detenci? Anomalias\\model_nn'"
      ],
      "text/latex": [
       "'C:\\textbackslash{}Users\\textbackslash{}admin\\textbackslash{}Desktop\\textbackslash{}GitHub\\textbackslash{}Mineria.de.Datos.Aplicada\\textbackslash{}Detenci? Anomalias\\textbackslash{}model\\_nn'"
      ],
      "text/markdown": [
       "'C:\\Users\\admin\\Desktop\\GitHub\\Mineria.de.Datos.Aplicada\\Detenci? Anomalias\\model_nn'"
      ],
      "text/plain": [
       "[1] \"C:\\\\Users\\\\admin\\\\Desktop\\\\GitHub\\\\Mineria.de.Datos.Aplicada\\\\Detenci? Anomalias\\\\model_nn\""
      ]
     },
     "metadata": {},
     "output_type": "display_data"
    }
   ],
   "source": [
    "h2o.saveModel(model_nn, path='C:/Users/admin/Desktop/GitHub/Mineria.de.Datos.Aplicada/Detención Anomalias',force = TRUE)\n"
   ]
  },
  {
   "cell_type": "code",
   "execution_count": 24,
   "metadata": {
    "collapsed": false
   },
   "outputs": [
    {
     "data": {
      "text/plain": [
       "Model Details:\n",
       "==============\n",
       "\n",
       "H2OAutoEncoderModel: deeplearning\n",
       "Model ID:  model_nn \n",
       "Status of Neuron Layers: auto-encoder, gaussian distribution, Quadratic loss, 776 weights/biases, 16,0 KB, 3.078.999 training samples, mini-batch size 1\n",
       "  layer units  type dropout       l1       l2 mean_rate rate_rms momentum\n",
       "1     1    34 Input  0.00 %                                              \n",
       "2     2    10  Tanh  0.00 % 0.000000 0.000000  0.828081 0.245066 0.000000\n",
       "3     3     2  Tanh  0.00 % 0.000000 0.000000  0.063982 0.108885 0.000000\n",
       "4     4    10  Tanh  0.00 % 0.000000 0.000000  0.159982 0.176786 0.000000\n",
       "5     5    34  Tanh         0.000000 0.000000  0.363700 0.415370 0.000000\n",
       "  mean_weight weight_rms mean_bias bias_rms\n",
       "1                                          \n",
       "2   -0.056359   0.803946 -0.107397 1.518055\n",
       "3   -0.082333   0.364984  0.247254 0.104044\n",
       "4    0.201821   1.226047  0.080519 0.669157\n",
       "5    0.011648   0.680734  0.048081 0.724575\n",
       "\n",
       "\n",
       "H2OAutoEncoderMetrics: deeplearning\n",
       "** Reported on training data. **\n",
       "\n",
       "Training Set Metrics: \n",
       "=====================\n",
       "\n",
       "MSE: (Extract with `h2o.mse`) 0.001448197\n",
       "RMSE: (Extract with `h2o.rmse`) 0.03805519\n",
       "\n",
       "\n"
      ]
     },
     "metadata": {},
     "output_type": "display_data"
    }
   ],
   "source": [
    "model_nn <- h2o.loadModel(\"model_nn/model_nn\")\n",
    "model_nn"
   ]
  },
  {
   "cell_type": "code",
   "execution_count": 25,
   "metadata": {
    "collapsed": false
   },
   "outputs": [
    {
     "name": "stdout",
     "output_type": "stream",
     "text": [
      "\r",
      "  |                                                                            \r",
      "  |                                                                      |   0%\r",
      "  |                                                                            \r",
      "  |======================================================================| 100%\n"
     ]
    }
   ],
   "source": [
    "#Convert to autoencoded representation\n",
    "test_autoenc <- h2o.predict(model_nn, test)"
   ]
  },
  {
   "cell_type": "markdown",
   "metadata": {},
   "source": [
    "### Reducción de Dimensionalidad con Capas Ocultas"
   ]
  },
  {
   "cell_type": "code",
   "execution_count": 26,
   "metadata": {
    "collapsed": false
   },
   "outputs": [
    {
     "name": "stdout",
     "output_type": "stream",
     "text": [
      "\r",
      "  |                                                                            \r",
      "  |                                                                      |   0%\r",
      "  |                                                                            \r",
      "  |======================================================================| 100%\n"
     ]
    }
   ],
   "source": [
    "train_features <- h2o.deepfeatures(model_nn, train_unsupervised, layer = 2) %>%\n",
    "  as.data.frame() %>%\n",
    "  mutate(Class = as.vector(train_unsupervised[, 31]))\n"
   ]
  },
  {
   "cell_type": "code",
   "execution_count": 27,
   "metadata": {
    "collapsed": false
   },
   "outputs": [
    {
     "data": {},
     "metadata": {},
     "output_type": "display_data"
    },
    {
     "data": {
      "image/png": "[encoded data removed]",
      "text/plain": [
       "plot without title"
      ]
     },
     "metadata": {},
     "output_type": "display_data"
    }
   ],
   "source": [
    "ggplot(train_features, aes(x = DF.L2.C1, y = DF.L2.C2, color = Class)) +\n",
    "  geom_point(alpha = 0.1)"
   ]
  },
  {
   "cell_type": "code",
   "execution_count": 28,
   "metadata": {
    "collapsed": false
   },
   "outputs": [
    {
     "name": "stdout",
     "output_type": "stream",
     "text": [
      "\r",
      "  |                                                                            \r",
      "  |                                                                      |   0%\r",
      "  |                                                                            \r",
      "  |======================================================================| 100%\n",
      "\r",
      "  |                                                                            \r",
      "  |                                                                      |   0%\r",
      "  |                                                                            \r",
      "  |======================================================================| 100%\n"
     ]
    }
   ],
   "source": [
    "# let's take the third hidden layer\n",
    "train_features <- h2o.deepfeatures(model_nn, train_unsupervised, layer = 3) %>%\n",
    "  as.data.frame() %>%\n",
    "  mutate(Class = as.factor(as.vector(train_unsupervised[, 31]))) %>%\n",
    "  as.h2o()\n",
    "features_dim <- setdiff(colnames(train_features), response)"
   ]
  },
  {
   "cell_type": "code",
   "execution_count": 29,
   "metadata": {
    "collapsed": false
   },
   "outputs": [
    {
     "name": "stdout",
     "output_type": "stream",
     "text": [
      "\r",
      "  |                                                                            \r",
      "  |                                                                      |   0%\r",
      "  |                                                                            \r",
      "  |=                                                                     |   2%\r",
      "  |                                                                            \r",
      "  |===                                                                   |   4%\r",
      "  |                                                                            \r",
      "  |====                                                                  |   6%\r",
      "  |                                                                            \r",
      "  |======                                                                |   8%\r",
      "  |                                                                            \r",
      "  |=======                                                               |  10%\r",
      "  |                                                                            \r",
      "  |========                                                              |  12%\r",
      "  |                                                                            \r",
      "  |==========                                                            |  14%\r",
      "  |                                                                            \r",
      "  |===========                                                           |  16%\r",
      "  |                                                                            \r",
      "  |=============                                                         |  18%\r",
      "  |                                                                            \r",
      "  |==============                                                        |  20%\r",
      "  |                                                                            \r",
      "  |===============                                                       |  22%\r",
      "  |                                                                            \r",
      "  |=================                                                     |  24%\r",
      "  |                                                                            \r",
      "  |==================                                                    |  26%\r",
      "  |                                                                            \r",
      "  |====================                                                  |  28%\r",
      "  |                                                                            \r",
      "  |=====================                                                 |  30%\r",
      "  |                                                                            \r",
      "  |======================                                                |  32%\r",
      "  |                                                                            \r",
      "  |========================                                              |  34%\r",
      "  |                                                                            \r",
      "  |=========================                                             |  36%\r",
      "  |                                                                            \r",
      "  |===========================                                           |  38%\r",
      "  |                                                                            \r",
      "  |======================================================================| 100%\n"
     ]
    }
   ],
   "source": [
    "model_nn_dim <- h2o.deeplearning(y = response,\n",
    "                               x = features_dim,\n",
    "                               training_frame = train_features,\n",
    "                               reproducible = TRUE, #slow - turn off for real problems\n",
    "                               balance_classes = TRUE,\n",
    "                               ignore_const_cols = FALSE,\n",
    "                               seed = 42,\n",
    "                               hidden = c(10, 2, 10), \n",
    "                               epochs = 100,\n",
    "                               activation = \"Tanh\")"
   ]
  },
  {
   "cell_type": "code",
   "execution_count": 30,
   "metadata": {
    "collapsed": false
   },
   "outputs": [
    {
     "data": {
      "text/html": [
       "'C:\\Users\\admin\\Desktop\\GitHub\\Mineria.de.Datos.Aplicada\\DetenciÃ³n Anomalias\\model_nn_dim\\DeepLearning_model_R_1493676616333_1'"
      ],
      "text/latex": [
       "'C:\\textbackslash{}Users\\textbackslash{}admin\\textbackslash{}Desktop\\textbackslash{}GitHub\\textbackslash{}Mineria.de.Datos.Aplicada\\textbackslash{}DetenciÃ³n Anomalias\\textbackslash{}model\\_nn\\_dim\\textbackslash{}DeepLearning\\_model\\_R\\_1493676616333\\_1'"
      ],
      "text/markdown": [
       "'C:\\Users\\admin\\Desktop\\GitHub\\Mineria.de.Datos.Aplicada\\DetenciÃ³n Anomalias\\model_nn_dim\\DeepLearning_model_R_1493676616333_1'"
      ],
      "text/plain": [
       "[1] \"C:\\\\Users\\\\admin\\\\Desktop\\\\GitHub\\\\Mineria.de.Datos.Aplicada\\\\DetenciÃ³n Anomalias\\\\model_nn_dim\\\\DeepLearning_model_R_1493676616333_1\""
      ]
     },
     "metadata": {},
     "output_type": "display_data"
    }
   ],
   "source": [
    "h2o.saveModel(model_nn_dim, path=\"model_nn_dim\", force = TRUE)"
   ]
  },
  {
   "cell_type": "code",
   "execution_count": 31,
   "metadata": {
    "collapsed": false
   },
   "outputs": [
    {
     "data": {
      "text/plain": [
       "Model Details:\n",
       "==============\n",
       "\n",
       "H2OBinomialModel: deeplearning\n",
       "Model ID:  DeepLearning_model_R_1493672949388_1 \n",
       "Status of Neuron Layers: predicting Class, 2-class classification, bernoulli distribution, CrossEntropy loss, 184 weights/biases, 7,1 KB, 4.553.360 training samples, mini-batch size 1\n",
       "  layer units    type dropout       l1       l2 mean_rate rate_rms momentum\n",
       "1     1    10   Input  0.00 %                                              \n",
       "2     2    10    Tanh  0.00 % 0.000000 0.000000  0.012031 0.021979 0.000000\n",
       "3     3     2    Tanh  0.00 % 0.000000 0.000000  0.000312 0.000134 0.000000\n",
       "4     4    10    Tanh  0.00 % 0.000000 0.000000  0.225957 0.111415 0.000000\n",
       "5     5     2 Softmax         0.000000 0.000000  0.135322 0.065438 0.000000\n",
       "  mean_weight weight_rms mean_bias bias_rms\n",
       "1                                          \n",
       "2   -0.219937   3.051839  0.781291 1.703607\n",
       "3   -0.301697   1.402969 -2.696903 0.403040\n",
       "4    0.128050   1.998901 -0.361804 1.089969\n",
       "5    0.563946   1.052547  0.000000 0.131943\n",
       "\n",
       "\n",
       "H2OBinomialMetrics: deeplearning\n",
       "** Reported on training data. **\n",
       "** Metrics reported on temporary training frame with 9974 samples **\n",
       "\n",
       "MSE:  0.4836446\n",
       "RMSE:  0.6954456\n",
       "LogLoss:  2.724373\n",
       "Mean Per-Class Error:  0.3601753\n",
       "AUC:  0.7364843\n",
       "Gini:  0.4729686\n",
       "\n",
       "Confusion Matrix (vertical: actual; across: predicted) for F1-optimal threshold:\n",
       "          0    1    Error        Rate\n",
       "0      1564 3468 0.689189  =3468/5032\n",
       "1       154 4788 0.031161   =154/4942\n",
       "Totals 1718 8256 0.363144  =3622/9974\n",
       "\n",
       "Maximum Metrics: Maximum metrics at their respective thresholds\n",
       "                        metric threshold    value idx\n",
       "1                       max f1  0.001152 0.725564 334\n",
       "2                       max f2  0.000736 0.857544 355\n",
       "3                 max f0point5  0.002435 0.664222 263\n",
       "4                 max accuracy  0.002435 0.673852 263\n",
       "5                max precision  0.161664 1.000000   0\n",
       "6                   max recall  0.000500 1.000000 368\n",
       "7              max specificity  0.161664 1.000000   0\n",
       "8             max absolute_mcc  0.001152 0.370288 334\n",
       "9   max min_per_class_accuracy  0.002435 0.572536 263\n",
       "10 max mean_per_class_accuracy  0.002435 0.674775 263\n",
       "\n",
       "Gains/Lift Table: Extract with `h2o.gainsLift(<model>, <data>)` or `h2o.gainsLift(<model>, valid=<T/F>, xval=<T/F>)`\n",
       "\n"
      ]
     },
     "metadata": {},
     "output_type": "display_data"
    }
   ],
   "source": [
    "model_nn_dim <- h2o.loadModel(\"model_nn_dim/DeepLearning_model_R_1493672949388_1\")\n",
    "model_nn_dim"
   ]
  },
  {
   "cell_type": "code",
   "execution_count": 32,
   "metadata": {
    "collapsed": false
   },
   "outputs": [
    {
     "name": "stdout",
     "output_type": "stream",
     "text": [
      "  |======================================================================| 100%\n",
      "  |======================================================================| 100%\n"
     ]
    },
    {
     "data": {
      "text/html": [
       "<table>\n",
       "<thead><tr><th scope=col>actual</th><th scope=col>predict</th><th scope=col>n</th><th scope=col>freq</th></tr></thead>\n",
       "<tbody>\n",
       "\t<tr><td>0         </td><td>0         </td><td>17616     </td><td>0.31106088</td></tr>\n",
       "\t<tr><td>0         </td><td>1         </td><td>39016     </td><td>0.68893912</td></tr>\n",
       "\t<tr><td>1         </td><td>0         </td><td>    2     </td><td>0.02173913</td></tr>\n",
       "\t<tr><td>1         </td><td>1         </td><td>   90     </td><td>0.97826087</td></tr>\n",
       "</tbody>\n",
       "</table>\n"
      ],
      "text/latex": [
       "\\begin{tabular}{r|llll}\n",
       " actual & predict & n & freq\\\\\n",
       "\\hline\n",
       "\t 0          & 0          & 17616      & 0.31106088\\\\\n",
       "\t 0          & 1          & 39016      & 0.68893912\\\\\n",
       "\t 1          & 0          &     2      & 0.02173913\\\\\n",
       "\t 1          & 1          &    90      & 0.97826087\\\\\n",
       "\\end{tabular}\n"
      ],
      "text/plain": [
       "  actual predict n     freq      \n",
       "1 0      0       17616 0.31106088\n",
       "2 0      1       39016 0.68893912\n",
       "3 1      0           2 0.02173913\n",
       "4 1      1          90 0.97826087"
      ]
     },
     "metadata": {},
     "output_type": "display_data"
    }
   ],
   "source": [
    "test_dim <- h2o.deepfeatures(model_nn, test, layer = 3)\n",
    "h2o.predict(model_nn_dim, test_dim) %>%\n",
    "  as.data.frame() %>%\n",
    "  mutate(actual = as.vector(test[, 31])) %>%\n",
    "  group_by(actual, predict) %>%\n",
    "  summarise(n = n()) %>%\n",
    "  mutate(freq = n / sum(n))"
   ]
  },
  {
   "cell_type": "markdown",
   "metadata": {},
   "source": [
    "### Detección de Anomalias"
   ]
  },
  {
   "cell_type": "code",
   "execution_count": 33,
   "metadata": {
    "collapsed": true
   },
   "outputs": [],
   "source": [
    "anomaly <- h2o.anomaly(model_nn, test) %>%\n",
    "  as.data.frame() %>%\n",
    "  tibble::rownames_to_column() %>%\n",
    "  mutate(Class = as.vector(test[, 31]))"
   ]
  },
  {
   "cell_type": "code",
   "execution_count": 34,
   "metadata": {
    "collapsed": true
   },
   "outputs": [],
   "source": [
    "mean_mse <- anomaly %>%\n",
    "  group_by(Class) %>%\n",
    "  summarise(mean = mean(Reconstruction.MSE))"
   ]
  },
  {
   "cell_type": "code",
   "execution_count": 35,
   "metadata": {
    "collapsed": false
   },
   "outputs": [
    {
     "data": {},
     "metadata": {},
     "output_type": "display_data"
    },
    {
     "data": {
      "image/png": "[encoded data removed]",
      "text/plain": [
       "plot without title"
      ]
     },
     "metadata": {},
     "output_type": "display_data"
    }
   ],
   "source": [
    "ggplot(anomaly, aes(x = as.numeric(rowname), y = Reconstruction.MSE, color = as.factor(Class))) +\n",
    "  geom_point(alpha = 0.3) +\n",
    "  geom_hline(data = mean_mse, aes(yintercept = mean, color = Class)) +\n",
    "  scale_color_brewer(palette = \"Set1\") +\n",
    "  labs(x = \"instance number\",\n",
    "       color = \"Class\")"
   ]
  },
  {
   "cell_type": "code",
   "execution_count": 36,
   "metadata": {
    "collapsed": true
   },
   "outputs": [],
   "source": [
    "anomaly <- anomaly %>%\n",
    "  mutate(outlier = ifelse(Reconstruction.MSE > 0.02, \"outlier\", \"no_outlier\"))"
   ]
  },
  {
   "cell_type": "code",
   "execution_count": 37,
   "metadata": {
    "collapsed": false
   },
   "outputs": [
    {
     "data": {
      "text/html": [
       "<table>\n",
       "<thead><tr><th scope=col>Class</th><th scope=col>outlier</th><th scope=col>n</th><th scope=col>freq</th></tr></thead>\n",
       "<tbody>\n",
       "\t<tr><td>0           </td><td>no_outlier  </td><td>56602       </td><td>0.9994702642</td></tr>\n",
       "\t<tr><td>0           </td><td>outlier     </td><td>   30       </td><td>0.0005297358</td></tr>\n",
       "\t<tr><td>1           </td><td>no_outlier  </td><td>   60       </td><td>0.6521739130</td></tr>\n",
       "\t<tr><td>1           </td><td>outlier     </td><td>   32       </td><td>0.3478260870</td></tr>\n",
       "</tbody>\n",
       "</table>\n"
      ],
      "text/latex": [
       "\\begin{tabular}{r|llll}\n",
       " Class & outlier & n & freq\\\\\n",
       "\\hline\n",
       "\t 0            & no\\_outlier & 56602        & 0.9994702642\\\\\n",
       "\t 0            & outlier      &    30        & 0.0005297358\\\\\n",
       "\t 1            & no\\_outlier &    60        & 0.6521739130\\\\\n",
       "\t 1            & outlier      &    32        & 0.3478260870\\\\\n",
       "\\end{tabular}\n"
      ],
      "text/plain": [
       "  Class outlier    n     freq        \n",
       "1 0     no_outlier 56602 0.9994702642\n",
       "2 0     outlier       30 0.0005297358\n",
       "3 1     no_outlier    60 0.6521739130\n",
       "4 1     outlier       32 0.3478260870"
      ]
     },
     "metadata": {},
     "output_type": "display_data"
    }
   ],
   "source": [
    "anomaly %>%\n",
    "  group_by(Class, outlier) %>%\n",
    "  summarise(n = n()) %>%\n",
    "  mutate(freq = n / sum(n)) "
   ]
  },
  {
   "cell_type": "markdown",
   "metadata": {},
   "source": [
    "### Modelo Supervisado Pre-Entrenado"
   ]
  },
  {
   "cell_type": "code",
   "execution_count": 38,
   "metadata": {
    "collapsed": false
   },
   "outputs": [
    {
     "name": "stdout",
     "output_type": "stream",
     "text": [
      "\r",
      "  |                                                                            \r",
      "  |                                                                      |   0%\r",
      "  |                                                                            \r",
      "  |=                                                                     |   2%\r",
      "  |                                                                            \r",
      "  |===                                                                   |   4%\r",
      "  |                                                                            \r",
      "  |====                                                                  |   6%\r",
      "  |                                                                            \r",
      "  |======                                                                |   8%\r",
      "  |                                                                            \r",
      "  |=======                                                               |  10%\r",
      "  |                                                                            \r",
      "  |========                                                              |  12%\r",
      "  |                                                                            \r",
      "  |==========                                                            |  14%\r",
      "  |                                                                            \r",
      "  |===========                                                           |  16%\r",
      "  |                                                                            \r",
      "  |=============                                                         |  18%\r",
      "  |                                                                            \r",
      "  |==============                                                        |  20%\r",
      "  |                                                                            \r",
      "  |===============                                                       |  22%\r",
      "  |                                                                            \r",
      "  |=================                                                     |  24%\r",
      "  |                                                                            \r",
      "  |==================                                                    |  26%\r",
      "  |                                                                            \r",
      "  |====================                                                  |  28%\r",
      "  |                                                                            \r",
      "  |=====================                                                 |  30%\r",
      "  |                                                                            \r",
      "  |======================                                                |  32%\r",
      "  |                                                                            \r",
      "  |========================                                              |  34%\r",
      "  |                                                                            \r",
      "  |=========================                                             |  36%\r",
      "  |                                                                            \r",
      "  |===========================                                           |  38%\r",
      "  |                                                                            \r",
      "  |============================                                          |  40%\r",
      "  |                                                                            \r",
      "  |=============================                                         |  42%\r",
      "  |                                                                            \r",
      "  |===============================                                       |  44%\r",
      "  |                                                                            \r",
      "  |================================                                      |  46%\r",
      "  |                                                                            \r",
      "  |==================================                                    |  48%\r",
      "  |                                                                            \r",
      "  |===================================                                   |  50%\r",
      "  |                                                                            \r",
      "  |====================================                                  |  52%\r",
      "  |                                                                            \r",
      "  |======================================                                |  54%\r",
      "  |                                                                            \r",
      "  |=======================================                               |  56%\r",
      "  |                                                                            \r",
      "  |=========================================                             |  58%\r",
      "  |                                                                            \r",
      "  |==========================================                            |  60%\r",
      "  |                                                                            \r",
      "  |===========================================                           |  62%\r",
      "  |                                                                            \r",
      "  |=============================================                         |  64%\r",
      "  |                                                                            \r",
      "  |==============================================                        |  66%\r",
      "  |                                                                            \r",
      "  |================================================                      |  68%\r",
      "  |                                                                            \r",
      "  |=================================================                     |  70%\r",
      "  |                                                                            \r",
      "  |==================================================                    |  72%\r",
      "  |                                                                            \r",
      "  |====================================================                  |  74%\r",
      "  |                                                                            \r",
      "  |=====================================================                 |  76%\r",
      "  |                                                                            \r",
      "  |=======================================================               |  78%\r",
      "  |                                                                            \r",
      "  |========================================================              |  80%\r",
      "  |                                                                            \r",
      "  |=========================================================             |  82%\r",
      "  |                                                                            \r",
      "  |===========================================================           |  84%\r",
      "  |                                                                            \r",
      "  |============================================================          |  86%\r",
      "  |                                                                            \r",
      "  |=============================================================         |  88%\r",
      "  |                                                                            \r",
      "  |===============================================================       |  90%\r",
      "  |                                                                            \r",
      "  |================================================================      |  92%\r",
      "  |                                                                            \r",
      "  |==================================================================    |  94%\r",
      "  |                                                                            \r",
      "  |===================================================================   |  96%\r",
      "  |                                                                            \r",
      "  |====================================================================  |  98%\r",
      "  |                                                                            \r",
      "  |======================================================================| 100%\n"
     ]
    }
   ],
   "source": [
    "model_nn_2 <- h2o.deeplearning(y = response,\n",
    "                               x = features,\n",
    "                               training_frame = train_supervised,\n",
    "                               pretrained_autoencoder  = \"model_nn\",\n",
    "                               reproducible = TRUE, #slow - turn off for real problems\n",
    "                               balance_classes = TRUE,\n",
    "                               ignore_const_cols = FALSE,\n",
    "                               seed = 42,\n",
    "                               hidden = c(10, 2, 10), \n",
    "                               epochs = 100,\n",
    "                               activation = \"Tanh\")"
   ]
  },
  {
   "cell_type": "code",
   "execution_count": 39,
   "metadata": {
    "collapsed": false
   },
   "outputs": [
    {
     "data": {
      "text/html": [
       "'C:\\Users\\admin\\Desktop\\GitHub\\Mineria.de.Datos.Aplicada\\DetenciÃ³n Anomalias\\model_nn_2\\DeepLearning_model_R_1493676616333_23'"
      ],
      "text/latex": [
       "'C:\\textbackslash{}Users\\textbackslash{}admin\\textbackslash{}Desktop\\textbackslash{}GitHub\\textbackslash{}Mineria.de.Datos.Aplicada\\textbackslash{}DetenciÃ³n Anomalias\\textbackslash{}model\\_nn\\_2\\textbackslash{}DeepLearning\\_model\\_R\\_1493676616333\\_23'"
      ],
      "text/markdown": [
       "'C:\\Users\\admin\\Desktop\\GitHub\\Mineria.de.Datos.Aplicada\\DetenciÃ³n Anomalias\\model_nn_2\\DeepLearning_model_R_1493676616333_23'"
      ],
      "text/plain": [
       "[1] \"C:\\\\Users\\\\admin\\\\Desktop\\\\GitHub\\\\Mineria.de.Datos.Aplicada\\\\DetenciÃ³n Anomalias\\\\model_nn_2\\\\DeepLearning_model_R_1493676616333_23\""
      ]
     },
     "metadata": {},
     "output_type": "display_data"
    }
   ],
   "source": [
    "h2o.saveModel(model_nn_2, path=\"model_nn_2\", force = TRUE)"
   ]
  },
  {
   "cell_type": "code",
   "execution_count": 40,
   "metadata": {
    "collapsed": false
   },
   "outputs": [
    {
     "data": {
      "text/plain": [
       "Model Details:\n",
       "==============\n",
       "\n",
       "H2OBinomialModel: deeplearning\n",
       "Model ID:  DeepLearning_model_R_1493672949388_23 \n",
       "Status of Neuron Layers: predicting Class, 2-class classification, bernoulli distribution, CrossEntropy loss, 424 weights/biases, 11,7 KB, 13.889.883 training samples, mini-batch size 1\n",
       "  layer units    type dropout       l1       l2 mean_rate rate_rms momentum\n",
       "1     1    34   Input  0.00 %                                              \n",
       "2     2    10    Tanh  0.00 % 0.000000 0.000000  0.793635 0.332953 0.000000\n",
       "3     3     2    Tanh  0.00 % 0.000000 0.000000  0.851693 0.175319 0.000000\n",
       "4     4    10    Tanh  0.00 % 0.000000 0.000000  0.998776 0.009405 0.000000\n",
       "5     5     2 Softmax         0.000000 0.000000  0.626231 0.398185 0.000000\n",
       "  mean_weight weight_rms mean_bias bias_rms\n",
       "1                                          \n",
       "2   -0.012780   1.356666 -0.108627 2.400342\n",
       "3   -0.035225   0.993426 -0.266087 1.856786\n",
       "4    0.815884   2.005008  0.784216 0.980405\n",
       "5   -3.064094   5.676661  8.691606 7.213642\n",
       "\n",
       "\n",
       "H2OBinomialMetrics: deeplearning\n",
       "** Reported on training data. **\n",
       "** Metrics reported on temporary training frame with 9973 samples **\n",
       "\n",
       "MSE:  0.0004172918\n",
       "RMSE:  0.02042772\n",
       "LogLoss:  0.003498283\n",
       "Mean Per-Class Error:  0.0003986446\n",
       "AUC:  0.9998327\n",
       "Gini:  0.9996655\n",
       "\n",
       "Confusion Matrix (vertical: actual; across: predicted) for F1-optimal threshold:\n",
       "          0    1    Error     Rate\n",
       "0      5013    4 0.000797  =4/5017\n",
       "1         0 4956 0.000000  =0/4956\n",
       "Totals 5013 4960 0.000401  =4/9973\n",
       "\n",
       "Maximum Metrics: Maximum metrics at their respective thresholds\n",
       "                        metric threshold    value idx\n",
       "1                       max f1  0.975715 0.999597  82\n",
       "2                       max f2  0.975715 0.999839  82\n",
       "3                 max f0point5  0.975715 0.999355  82\n",
       "4                 max accuracy  0.975715 0.999599  82\n",
       "5                max precision  0.992402 0.999791  71\n",
       "6                   max recall  0.975715 1.000000  82\n",
       "7              max specificity  0.997705 0.999801   0\n",
       "8             max absolute_mcc  0.975715 0.999198  82\n",
       "9   max min_per_class_accuracy  0.975715 0.999203  82\n",
       "10 max mean_per_class_accuracy  0.975715 0.999601  82\n",
       "\n",
       "Gains/Lift Table: Extract with `h2o.gainsLift(<model>, <data>)` or `h2o.gainsLift(<model>, valid=<T/F>, xval=<T/F>)`\n",
       "\n"
      ]
     },
     "metadata": {},
     "output_type": "display_data"
    }
   ],
   "source": [
    "model_nn_2 <- h2o.loadModel(\"model_nn_2/DeepLearning_model_R_1493672949388_23\")\n",
    "model_nn_2"
   ]
  },
  {
   "cell_type": "code",
   "execution_count": 41,
   "metadata": {
    "collapsed": false
   },
   "outputs": [
    {
     "name": "stdout",
     "output_type": "stream",
     "text": [
      "\r",
      "  |                                                                            \r",
      "  |                                                                      |   0%\r",
      "  |                                                                            \r",
      "  |======================================================================| 100%\n"
     ]
    }
   ],
   "source": [
    "pred <- as.data.frame(h2o.predict(object = model_nn_2, newdata = test)) %>%\n",
    "  mutate(actual = as.vector(test[, 31]))"
   ]
  },
  {
   "cell_type": "code",
   "execution_count": 42,
   "metadata": {
    "collapsed": false
   },
   "outputs": [
    {
     "data": {
      "text/html": [
       "<table>\n",
       "<thead><tr><th scope=col>actual</th><th scope=col>predict</th><th scope=col>n</th><th scope=col>freq</th></tr></thead>\n",
       "<tbody>\n",
       "\t<tr><td>0           </td><td>0           </td><td>56594       </td><td>0.9993290013</td></tr>\n",
       "\t<tr><td>0           </td><td>1           </td><td>   38       </td><td>0.0006709987</td></tr>\n",
       "\t<tr><td>1           </td><td>0           </td><td>   16       </td><td>0.1739130435</td></tr>\n",
       "\t<tr><td>1           </td><td>1           </td><td>   76       </td><td>0.8260869565</td></tr>\n",
       "</tbody>\n",
       "</table>\n"
      ],
      "text/latex": [
       "\\begin{tabular}{r|llll}\n",
       " actual & predict & n & freq\\\\\n",
       "\\hline\n",
       "\t 0            & 0            & 56594        & 0.9993290013\\\\\n",
       "\t 0            & 1            &    38        & 0.0006709987\\\\\n",
       "\t 1            & 0            &    16        & 0.1739130435\\\\\n",
       "\t 1            & 1            &    76        & 0.8260869565\\\\\n",
       "\\end{tabular}\n"
      ],
      "text/plain": [
       "  actual predict n     freq        \n",
       "1 0      0       56594 0.9993290013\n",
       "2 0      1          38 0.0006709987\n",
       "3 1      0          16 0.1739130435\n",
       "4 1      1          76 0.8260869565"
      ]
     },
     "metadata": {},
     "output_type": "display_data"
    }
   ],
   "source": [
    "pred %>%\n",
    "  group_by(actual, predict) %>%\n",
    "  summarise(n = n()) %>%\n",
    "  mutate(freq = n / sum(n)) "
   ]
  },
  {
   "cell_type": "code",
   "execution_count": 43,
   "metadata": {
    "collapsed": false
   },
   "outputs": [
    {
     "data": {},
     "metadata": {},
     "output_type": "display_data"
    },
    {
     "data": {
      "image/png": "[encoded data removed]",
      "text/plain": [
       "plot without title"
      ]
     },
     "metadata": {},
     "output_type": "display_data"
    }
   ],
   "source": [
    "pred %>%\n",
    "  ggplot(aes(x = actual, fill = predict)) +\n",
    "    geom_bar() +\n",
    "    scale_fill_brewer(palette = \"Set1\") +\n",
    "    facet_wrap( ~ actual, scales = \"free\", ncol = 2)"
   ]
  },
  {
   "cell_type": "markdown",
   "metadata": {},
   "source": [
    "### Medición del rendimiento del modelo en datos desbalanceados"
   ]
  },
  {
   "cell_type": "code",
   "execution_count": 44,
   "metadata": {
    "collapsed": false
   },
   "outputs": [
    {
     "name": "stderr",
     "output_type": "stream",
     "text": [
      "Warning message:\n",
      "\"package 'ROCR' was built under R version 3.3.3\"Loading required package: gplots\n",
      "Warning message:\n",
      "\"package 'gplots' was built under R version 3.3.2\"\n",
      "Attaching package: 'gplots'\n",
      "\n",
      "The following object is masked from 'package:stats':\n",
      "\n",
      "    lowess\n",
      "\n"
     ]
    }
   ],
   "source": [
    "library(ROCR)\n",
    "\n",
    "# http://stackoverflow.com/questions/24563061/computing-integral-of-a-line-plot-in-r\n",
    "line_integral <- function(x, y) {\n",
    "  dx <- diff(x)\n",
    "  end <- length(y)\n",
    "  my <- (y[1:(end - 1)] + y[2:end]) / 2\n",
    "  sum(dx * my)\n",
    "} "
   ]
  },
  {
   "cell_type": "code",
   "execution_count": 45,
   "metadata": {
    "collapsed": false
   },
   "outputs": [
    {
     "data": {
      "image/png": "[encoded data removed]",
      "text/plain": [
       "Plot with title \"Area bajo la \n",
       " Curva Precision-Recall :\n",
       " 0.637\""
      ]
     },
     "metadata": {},
     "output_type": "display_data"
    }
   ],
   "source": [
    "prediction_obj <- prediction(pred$p1, pred$actual)\n",
    "par(mfrow = c(1, 2))\n",
    "par(mar = c(5.1,4.1,4.1,2.1))\n",
    "\n",
    "# precision-recall curve\n",
    "perf1 <- performance(prediction_obj, measure = \"prec\", x.measure = \"rec\") \n",
    "\n",
    "x <- perf1@x.values[[1]]\n",
    "y <- perf1@y.values[[1]]\n",
    "y[1] <- 0\n",
    "\n",
    "options(repr.plot.width=8, repr.plot.height=4)\n",
    "\n",
    "plot(perf1, main = paste(\"Area bajo la \\n Curva Precision-Recall :\\n\", round(abs(line_integral(x,y)), digits = 3)))"
   ]
  },
  {
   "cell_type": "code",
   "execution_count": 46,
   "metadata": {
    "collapsed": false
   },
   "outputs": [
    {
     "data": {
      "image/png": "[encoded data removed]",
      "text/plain": [
       "Plot with title \"Area bajo la curva\n",
       "Sensitivity-Specificity :\n",
       " 0.911\""
      ]
     },
     "metadata": {},
     "output_type": "display_data"
    }
   ],
   "source": [
    "# sensitivity-specificity curve\n",
    "perf2 <- performance(prediction_obj, measure = \"sens\", x.measure = \"spec\") \n",
    "\n",
    "x <- perf2@x.values[[1]]\n",
    "y <- perf2@y.values[[1]]\n",
    "y[1] <- 0\n",
    "\n",
    "plot(perf2, main = paste(\"Area bajo la curva\\nSensitivity-Specificity :\\n\", round(abs(line_integral(x,y)), digits = 3)))"
   ]
  },
  {
   "cell_type": "code",
   "execution_count": 47,
   "metadata": {
    "collapsed": true
   },
   "outputs": [],
   "source": [
    "thresholds <- seq(from = 0, to = 1, by = 0.1)\n",
    "pred_thresholds <- data.frame(actual = pred$actual)\n",
    "\n",
    "for (threshold in thresholds) {\n",
    "  \n",
    "  prediction <- ifelse(pred$p1 > threshold, 1, 0)\n",
    "  prediction_true <- ifelse(pred_thresholds$actual == prediction, TRUE, FALSE)\n",
    "  pred_thresholds <- cbind(pred_thresholds, prediction_true)\n",
    "\n",
    "}\n"
   ]
  },
  {
   "cell_type": "code",
   "execution_count": 48,
   "metadata": {
    "collapsed": false
   },
   "outputs": [
    {
     "name": "stderr",
     "output_type": "stream",
     "text": [
      "Warning message:\n",
      "\"package 'tidyverse' was built under R version 3.3.3\"Loading tidyverse: tibble\n",
      "Loading tidyverse: tidyr\n",
      "Loading tidyverse: readr\n",
      "Loading tidyverse: purrr\n",
      "Warning message:\n",
      "\"package 'tibble' was built under R version 3.3.2\"Warning message:\n",
      "\"package 'tidyr' was built under R version 3.3.2\"Warning message:\n",
      "\"package 'purrr' was built under R version 3.3.2\"Conflicts with tidy packages ---------------------------------------------------\n",
      "filter(): dplyr, stats\n",
      "lag():    dplyr, stats\n"
     ]
    },
    {
     "data": {},
     "metadata": {},
     "output_type": "display_data"
    },
    {
     "data": {
      "image/png": "[encoded data removed]",
      "text/plain": [
       "plot without title"
      ]
     },
     "metadata": {},
     "output_type": "display_data"
    }
   ],
   "source": [
    "colnames(pred_thresholds)[-1] <- thresholds\n",
    "\n",
    "library(tidyverse)\n",
    "\n",
    "pred_thresholds %>%\n",
    "  gather(x, y, 2:ncol(pred_thresholds)) %>%\n",
    "  group_by(actual, x, y) %>%\n",
    "  summarise(n = n()) %>%\n",
    "  ggplot(aes(x = as.numeric(x), y = n, color = actual)) +\n",
    "    geom_vline(xintercept = 0.6, alpha = 0.5) +\n",
    "    geom_line() +\n",
    "    geom_point(alpha = 0.5) +\n",
    "    facet_wrap(actual ~ y, scales = \"free\", ncol = 2) +\n",
    "    labs(x = \"prediction threshold\",\n",
    "         y = \"number of instances\")"
   ]
  },
  {
   "cell_type": "code",
   "execution_count": 49,
   "metadata": {
    "collapsed": false
   },
   "outputs": [
    {
     "data": {
      "text/html": [
       "<table>\n",
       "<thead><tr><th scope=col>actual</th><th scope=col>predict</th><th scope=col>n</th><th scope=col>freq</th></tr></thead>\n",
       "<tbody>\n",
       "\t<tr><td>0          </td><td>0          </td><td>56567      </td><td>0.998852239</td></tr>\n",
       "\t<tr><td>0          </td><td>1          </td><td>   65      </td><td>0.001147761</td></tr>\n",
       "\t<tr><td>1          </td><td>0          </td><td>   15      </td><td>0.163043478</td></tr>\n",
       "\t<tr><td>1          </td><td>1          </td><td>   77      </td><td>0.836956522</td></tr>\n",
       "</tbody>\n",
       "</table>\n"
      ],
      "text/latex": [
       "\\begin{tabular}{r|llll}\n",
       " actual & predict & n & freq\\\\\n",
       "\\hline\n",
       "\t 0           & 0           & 56567       & 0.998852239\\\\\n",
       "\t 0           & 1           &    65       & 0.001147761\\\\\n",
       "\t 1           & 0           &    15       & 0.163043478\\\\\n",
       "\t 1           & 1           &    77       & 0.836956522\\\\\n",
       "\\end{tabular}\n"
      ],
      "text/plain": [
       "  actual predict n     freq       \n",
       "1 0      0       56567 0.998852239\n",
       "2 0      1          65 0.001147761\n",
       "3 1      0          15 0.163043478\n",
       "4 1      1          77 0.836956522"
      ]
     },
     "metadata": {},
     "output_type": "display_data"
    }
   ],
   "source": [
    "pred %>%\n",
    "  mutate(predict = ifelse(pred$p1 > 0.6, 1, 0)) %>%\n",
    "  group_by(actual, predict) %>%\n",
    "  summarise(n = n()) %>%\n",
    "  mutate(freq = n / sum(n))"
   ]
  },
  {
   "cell_type": "code",
   "execution_count": null,
   "metadata": {
    "collapsed": true
   },
   "outputs": [],
   "source": []
  },
  {
   "cell_type": "code",
   "execution_count": null,
   "metadata": {
    "collapsed": true
   },
   "outputs": [],
   "source": []
  },
  {
   "cell_type": "code",
   "execution_count": null,
   "metadata": {
    "collapsed": true
   },
   "outputs": [],
   "source": []
  }
 ],
 "metadata": {
  "kernelspec": {
   "display_name": "R",
   "language": "R",
   "name": "ir"
  },
  "language_info": {
   "codemirror_mode": "r",
   "file_extension": ".r",
   "mimetype": "text/x-r-source",
   "name": "R",
   "pygments_lexer": "r",
   "version": "3.3.1"
  }
 },
 "nbformat": 4,
 "nbformat_minor": 2
}
